{
 "cells": [
  {
   "cell_type": "code",
   "execution_count": 24,
   "metadata": {},
   "outputs": [],
   "source": [
    "import pandas as pd \n",
    "\n"
   ]
  },
  {
   "cell_type": "code",
   "execution_count": 34,
   "metadata": {},
   "outputs": [
    {
     "name": "stdout",
     "output_type": "stream",
     "text": [
      "1\n",
      "The list of valid transaction IDs selected is:  []\n",
      "==============================\n",
      "Empty DataFrame\n",
      "Columns: []\n",
      "Index: []\n"
     ]
    }
   ],
   "source": [
    "\n",
    "\n",
    "with open('ganache-20220810-134420.log', 'r', encoding='utf-8') as f:\n",
    "    tx = f.readlines()\n",
    "\n",
    "tx_list = []\n",
    "\n",
    "for t in tx:\n",
    "    t = t.replace(\"\\n\", \"\")\n",
    "\n",
    "tx_list.append(t.split(', '))\n",
    "\n",
    "tx_data = pd.DataFrame(tx_list,  columns= ['timestamp_fees'])\n",
    "\n",
    "tx_in = input('Enter transcation IDs (seperated by spacing): \\n ')\n",
    "\n",
    "tx_in_list = tx_in.split(' ')\n",
    "\n",
    "tx_in_list = [t.replace('\\\\s+', '') for t in tx_in_list]\n",
    "\n",
    "tx_in_list = [int(t) for t in tx_in_list]\n",
    "\n",
    "instr_list = []\n",
    "\n",
    "for t in tx_in_list:\n",
    "    print(t)\n",
    "    if t not in list(tx_data['timestamp_fees']):\n",
    "        print('The list of valid transaction IDs selected is: ', instr_list)\n",
    "        \n",
    "print('='* 30)\n",
    "\n",
    "\n",
    "in_data = pd.DataFrame()\n",
    "\n",
    "for id in instr_list:\n",
    "    in_data = in_data.append(tx_data[tx_data['id']==id])\n",
    "    \n",
    "    \n",
    "print(in_data)"
   ]
  },
  {
   "cell_type": "code",
   "execution_count": null,
   "metadata": {},
   "outputs": [],
   "source": []
  },
  {
   "cell_type": "code",
   "execution_count": 31,
   "metadata": {},
   "outputs": [],
   "source": [
    "# Hash"
   ]
  },
  {
   "cell_type": "code",
   "execution_count": 32,
   "metadata": {},
   "outputs": [],
   "source": [
    "from hashlib import sha256\n",
    "\n",
    "def dsha(tx):\n",
    "    return sha256(sha256(tx).digest()).digest()\n",
    "\n",
    "\n",
    "def rev(buf):\n",
    "    return buf[::-1]\n",
    "    "
   ]
  },
  {
   "cell_type": "code",
   "execution_count": 52,
   "metadata": {},
   "outputs": [],
   "source": [
    "tx_A = bytes.fromhex('01000000017b1eabe0209b1fe794124575ef807057c77ada2138ae4fa8d6c4de\\\n",
    "0398a14f3f0000000000ffffffff01f0ca052a010000001976a914cbc20a7664\\\n",
    "f2f69e5355aa427045bc15e7c6c77288ac00000000')\n",
    "\n",
    "\n",
    "tx_B = bytes.fromhex(\"01000000017b1eabe0209b1fe794124575ef807057c77ada2138ae4fa8d6c4de0398a14f3f00000000494830450221008949f0\\\n",
    "             cb400094ad2b5eb399d59d01c14d73d8fe6e96df1a7150deb388ab8935022079656090d7f6bac4c9a94e0aad311a4268e082a7\\\n",
    "             25f8aeae0573fb12ff866a5f01ffffffff01f0ca052a010000001976a914cbc20a7664f2f69e5355aa427045bc15e7c6c77288\\\n",
    "             ac00000000\")\n",
    "\n",
    "\n",
    "tx_C = bytes.fromhex(\"0100000002f327e86da3e66bd20e1129b1fb36d07056f0b9a117199e759396526b8f3a20780000000049483045022100fce442\\\n",
    "             ec52aa2792efc27fd3ad0eaf7fa69f097fdcefab017ea56d1799b10b2102207a6ae3eb61e11ffaba0453f173d1792f1b7bb8e7\\\n",
    "             422ea945101d68535c4b474801fffffffff0ede03d75050f20801d50358829ae02c058e8677d2cc74df51f738285013c260000\\\n",
    "             000000ffffffff02f028d6dc010000001976a914ffb035781c3c69e076d48b60c3d38592e7ce06a788ac00ca9a3b0000000019\\\n",
    "             76a914fa5139067622fd7e1e722a05c17c2bb7d5fd6df088ac00000000\")\n",
    "\n",
    "tx_D = bytes.fromhex(\"0100000002f327e86da3e66bd20e1129b1fb36d07056f0b9a117199e759396526b8f3a20780000000049483045022100fce442\\\n",
    "             ec52aa2792efc27fd3ad0eaf7fa69f097fdcefab017ea56d1799b10b2102207a6ae3eb61e11ffaba0453f173d1792f1b7bb8e7\\\n",
    "             422ea945101d68535c4b474801fffffffff0ede03d75050f20801d50358829ae02c058e8677d2cc74df51f738285013c260000\\\n",
    "             00006b483045022100b77f935ff366a6f3c2fdeb83589c790265d43b3d2cf5e5f0047da56c36de75f40220707ceda75d8dcf2c\\\n",
    "             caebc506f7293c3dcb910554560763d7659fb202f8ec324b012102240d7d3c7aad57b68aa0178f4c56f997d1bfab2ded3c2f94\\\n",
    "             27686017c603a6d6ffffffff02f028d6dc010000001976a914ffb035781c3c69e076d48b60c3d38592e7ce06a788ac00ca9a3b\\\n",
    "             000000001976a914fa5139067622fd7e1e722a05c17c2bb7d5fd6df088ac00000000\")\n"
   ]
  },
  {
   "cell_type": "code",
   "execution_count": 53,
   "metadata": {},
   "outputs": [
    {
     "name": "stdout",
     "output_type": "stream",
     "text": [
      "H_A: 38064cab4a838d13404c26da3be3c023d4c8c75498dec229d8b5e22c3d340bc8\n",
      "H_B: baff6599a7aa1160966ac62bdef517754d1d82c2c3c861cca8d546000a6a73c7\n",
      "H_C: 0151b89acb4b2391299b2474a42cfa7b3f7e293c49e889bb7f2693ab0d664203\n",
      "H_D: 098ebbff18cf40ad3ba02ded7d3558d7ca6ee96c990c8fdfb99cf61d88ad2c68\n"
     ]
    }
   ],
   "source": [
    "\n",
    "\n",
    "\n",
    "ha = dsha(tx_A)\n",
    "\n",
    "hb = dsha(tx_B)\n",
    "\n",
    "hc = dsha(tx_C)\n",
    "\n",
    "hd = dsha(tx_D)\n",
    "\n",
    "\n",
    "print(\"H_A:\", ha.hex())\n",
    "\n",
    "print(\"H_B:\", hb.hex())\n",
    "\n",
    "\n",
    "print(\"H_C:\", hc.hex())\n",
    "\n",
    "print(\"H_D:\", hd.hex())"
   ]
  },
  {
   "cell_type": "code",
   "execution_count": null,
   "metadata": {},
   "outputs": [],
   "source": []
  },
  {
   "cell_type": "code",
   "execution_count": 57,
   "metadata": {},
   "outputs": [
    {
     "name": "stdout",
     "output_type": "stream",
     "text": [
      "H_AB: 21fd468f87def061a0d05f9e9b047f079a970ae590a3d8c4fb08c4f7cb216d54\n",
      "H_CD: ccd6549788bdc2f2b3c53d90ed2ffac38c0df3edce954fa0deb57029b6bfc747\n",
      "H_ABCD: 4619e3fc381b3233cac3cbcfe313898b641af7d3ae8276f7eaa068f068c9048b\n",
      "Merkle root: 8b04c968f068a0eaf77682aed3f71a648b8913e3cfcbc3ca33321b38fce31946\n"
     ]
    }
   ],
   "source": [
    "hab = dsha(ha+hb)\n",
    "\n",
    "hcd = dsha(hc+hd)\n",
    "\n",
    "\n",
    "print(\"H_AB:\", hab.hex())\n",
    "\n",
    "\n",
    "print(\"H_CD:\", hcd.hex())\n",
    "\n",
    "habcd = dsha(hab + hcd)\n",
    "\n",
    "print(\"H_ABCD:\", habcd.hex())\n",
    "\n",
    "print(\"Merkle root:\", rev(habcd).hex())"
   ]
  },
  {
   "cell_type": "code",
   "execution_count": null,
   "metadata": {},
   "outputs": [],
   "source": []
  }
 ],
 "metadata": {
  "kernelspec": {
   "display_name": "Python 3.8.13 ('blockchainDev')",
   "language": "python",
   "name": "python3"
  },
  "language_info": {
   "codemirror_mode": {
    "name": "ipython",
    "version": 3
   },
   "file_extension": ".py",
   "mimetype": "text/x-python",
   "name": "python",
   "nbconvert_exporter": "python",
   "pygments_lexer": "ipython3",
   "version": "3.8.13"
  },
  "orig_nbformat": 4,
  "vscode": {
   "interpreter": {
    "hash": "1e9c44cc3bc95fb73b0aae724063041b6d6060f5ce93be071123fdfeed5e731e"
   }
  }
 },
 "nbformat": 4,
 "nbformat_minor": 2
}
