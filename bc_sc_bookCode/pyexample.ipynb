{
 "cells": [
  {
   "cell_type": "code",
   "execution_count": 69,
   "metadata": {},
   "outputs": [],
   "source": [
    "import pandas as pd \n",
    "\n"
   ]
  },
  {
   "cell_type": "code",
   "execution_count": 73,
   "metadata": {},
   "outputs": [
    {
     "name": "stdout",
     "output_type": "stream",
     "text": [
      "0\n",
      "The list of valid transaction IDs selected is:  []\n",
      "==============================\n",
      "Empty DataFrame\n",
      "Columns: []\n",
      "Index: []\n"
     ]
    }
   ],
   "source": [
    "\n",
    "\n",
    "with open('baldy.txt', 'r', encoding='utf-8') as f:\n",
    "    tx = f.readlines()\n",
    "\n",
    "tx_list = []\n",
    "\n",
    "for t in tx:\n",
    "    t = t.replace(\"\\n\", \"\")\n",
    "\n",
    "tx_list.append(t.split(', '))\n",
    "\n",
    "tx_data = pd.DataFrame(tx_list,  columns= ['timestamp_fees'])\n",
    "\n",
    "tx_in = input('Enter transcation IDs (seperated by spacing): \\n ')\n",
    "\n",
    "tx_in_list = tx_in.split(' ')\n",
    "\n",
    "tx_in_list = [t.replace('\\\\s+', '') for t in tx_in_list]\n",
    "\n",
    "tx_in_list = [int(t) for t in tx_in_list]\n",
    "\n",
    "instr_list = []\n",
    "\n",
    "for t in tx_in_list:\n",
    "    print(t)\n",
    "    if t not in list(tx_data['timestamp_fees']):\n",
    "        print('The list of valid transaction IDs selected is: ', instr_list)\n",
    "        \n",
    "print('='* 30)\n",
    "\n",
    "\n",
    "in_data = pd.DataFrame()\n",
    "\n",
    "for id in instr_list:\n",
    "    in_data = in_data.append(tx_data[tx_data['id']==id])\n",
    "    \n",
    "    \n",
    "print(in_data)"
   ]
  },
  {
   "cell_type": "code",
   "execution_count": null,
   "metadata": {},
   "outputs": [],
   "source": []
  },
  {
   "cell_type": "code",
   "execution_count": 31,
   "metadata": {},
   "outputs": [],
   "source": [
    "# Hash"
   ]
  },
  {
   "cell_type": "code",
   "execution_count": 74,
   "metadata": {},
   "outputs": [],
   "source": [
    "from hashlib import sha256\n",
    "\n",
    "def dsha(tx):\n",
    "    return sha256(sha256(tx).digest()).digest()\n",
    "\n",
    "\n",
    "def rev(buf):\n",
    "    return buf[::-1]\n",
    "    "
   ]
  },
  {
   "cell_type": "code",
   "execution_count": 75,
   "metadata": {},
   "outputs": [],
   "source": [
    "tx_A = bytes.fromhex('01000000017b1eabe0209b1fe794124575ef807057c77ada2138ae4fa8d6c4de\\\n",
    "0398a14f3f0000000000ffffffff01f0ca052a010000001976a914cbc20a7664\\\n",
    "f2f69e5355aa427045bc15e7c6c77288ac00000000')\n",
    "\n",
    "\n",
    "tx_B = bytes.fromhex(\"01000000017b1eabe0209b1fe794124575ef807057c77ada2138ae4fa8d6c4de0398a14f3f00000000494830450221008949f0\\\n",
    "             cb400094ad2b5eb399d59d01c14d73d8fe6e96df1a7150deb388ab8935022079656090d7f6bac4c9a94e0aad311a4268e082a7\\\n",
    "             25f8aeae0573fb12ff866a5f01ffffffff01f0ca052a010000001976a914cbc20a7664f2f69e5355aa427045bc15e7c6c77288\\\n",
    "             ac00000000\")\n",
    "\n",
    "\n",
    "tx_C = bytes.fromhex(\"0100000002f327e86da3e66bd20e1129b1fb36d07056f0b9a117199e759396526b8f3a20780000000049483045022100fce442\\\n",
    "             ec52aa2792efc27fd3ad0eaf7fa69f097fdcefab017ea56d1799b10b2102207a6ae3eb61e11ffaba0453f173d1792f1b7bb8e7\\\n",
    "             422ea945101d68535c4b474801fffffffff0ede03d75050f20801d50358829ae02c058e8677d2cc74df51f738285013c260000\\\n",
    "             000000ffffffff02f028d6dc010000001976a914ffb035781c3c69e076d48b60c3d38592e7ce06a788ac00ca9a3b0000000019\\\n",
    "             76a914fa5139067622fd7e1e722a05c17c2bb7d5fd6df088ac00000000\")\n",
    "\n",
    "tx_D = bytes.fromhex(\"0100000002f327e86da3e66bd20e1129b1fb36d07056f0b9a117199e759396526b8f3a20780000000049483045022100fce442\\\n",
    "             ec52aa2792efc27fd3ad0eaf7fa69f097fdcefab017ea56d1799b10b2102207a6ae3eb61e11ffaba0453f173d1792f1b7bb8e7\\\n",
    "             422ea945101d68535c4b474801fffffffff0ede03d75050f20801d50358829ae02c058e8677d2cc74df51f738285013c260000\\\n",
    "             00006b483045022100b77f935ff366a6f3c2fdeb83589c790265d43b3d2cf5e5f0047da56c36de75f40220707ceda75d8dcf2c\\\n",
    "             caebc506f7293c3dcb910554560763d7659fb202f8ec324b012102240d7d3c7aad57b68aa0178f4c56f997d1bfab2ded3c2f94\\\n",
    "             27686017c603a6d6ffffffff02f028d6dc010000001976a914ffb035781c3c69e076d48b60c3d38592e7ce06a788ac00ca9a3b\\\n",
    "             000000001976a914fa5139067622fd7e1e722a05c17c2bb7d5fd6df088ac00000000\")\n"
   ]
  },
  {
   "cell_type": "code",
   "execution_count": 76,
   "metadata": {},
   "outputs": [
    {
     "name": "stdout",
     "output_type": "stream",
     "text": [
      "H_A: 38064cab4a838d13404c26da3be3c023d4c8c75498dec229d8b5e22c3d340bc8\n",
      "H_B: baff6599a7aa1160966ac62bdef517754d1d82c2c3c861cca8d546000a6a73c7\n",
      "H_C: 0151b89acb4b2391299b2474a42cfa7b3f7e293c49e889bb7f2693ab0d664203\n",
      "H_D: 098ebbff18cf40ad3ba02ded7d3558d7ca6ee96c990c8fdfb99cf61d88ad2c68\n"
     ]
    }
   ],
   "source": [
    "\n",
    "\n",
    "\n",
    "ha = dsha(tx_A)\n",
    "\n",
    "hb = dsha(tx_B)\n",
    "\n",
    "hc = dsha(tx_C)\n",
    "\n",
    "hd = dsha(tx_D)\n",
    "\n",
    "\n",
    "print(\"H_A:\", ha.hex())\n",
    "\n",
    "print(\"H_B:\", hb.hex())\n",
    "\n",
    "\n",
    "print(\"H_C:\", hc.hex())\n",
    "\n",
    "print(\"H_D:\", hd.hex())"
   ]
  },
  {
   "cell_type": "code",
   "execution_count": null,
   "metadata": {},
   "outputs": [],
   "source": []
  },
  {
   "cell_type": "code",
   "execution_count": 77,
   "metadata": {},
   "outputs": [
    {
     "name": "stdout",
     "output_type": "stream",
     "text": [
      "H_AB: 21fd468f87def061a0d05f9e9b047f079a970ae590a3d8c4fb08c4f7cb216d54\n",
      "H_CD: ccd6549788bdc2f2b3c53d90ed2ffac38c0df3edce954fa0deb57029b6bfc747\n",
      "H_ABCD: 4619e3fc381b3233cac3cbcfe313898b641af7d3ae8276f7eaa068f068c9048b\n",
      "Merkle root: 8b04c968f068a0eaf77682aed3f71a648b8913e3cfcbc3ca33321b38fce31946\n"
     ]
    }
   ],
   "source": [
    "hab = dsha(ha+hb)\n",
    "\n",
    "hcd = dsha(hc+hd)\n",
    "\n",
    "\n",
    "print(\"H_AB:\", hab.hex())\n",
    "\n",
    "\n",
    "print(\"H_CD:\", hcd.hex())\n",
    "\n",
    "habcd = dsha(hab + hcd)\n",
    "\n",
    "print(\"H_ABCD:\", habcd.hex())\n",
    "\n",
    "print(\"Merkle root:\", rev(habcd).hex())"
   ]
  },
  {
   "cell_type": "code",
   "execution_count": 78,
   "metadata": {},
   "outputs": [],
   "source": [
    "ver = 2 \n",
    "\n",
    "prev_block = '01000000017b1eabe0209b1fe794124575ef807057c77ada'\n",
    "\n",
    "time_ = 0x5D21AB68\n",
    "\n",
    "bits = '0x1e03a30c'\n",
    "exponent = bits[2:4]\n",
    "coefficient = bits[4:]\n",
    "exponent2 = int(\"8\", 16) * (int(exponent, 16) - int(\"3\", 16))\n",
    "\n",
    "\n",
    "target = int(coefficient, 16) * (int(\"2\", 16)) ** exponent2\n",
    "\n",
    "print('The target (in hex) is:' , str(target))\n",
    "\n",
    "target1 = format(target, 'x')\n",
    "\n",
    "print('The target (in hex) is: ', str(target1).zfill(64))\n"
   ]
  },
  {
   "cell_type": "code",
   "execution_count": 79,
   "metadata": {},
   "outputs": [
    {
     "name": "stdout",
     "output_type": "stream",
     "text": [
      "The target (in hex) is: 238348\n",
      "The target (in hex) is: 238348\n"
     ]
    }
   ],
   "source": [
    "bits = '0x1e03a30c'\n",
    "exponent = bits[2:4]\n",
    "coefficient = bits[4:]\n",
    "exponent2 = int(\"8\", 16) * (int(exponent, 16) - int(\"3\", 16))\n",
    "\n",
    "\n",
    "target = int(coefficient, 16)\n",
    "\n",
    "print('The target (in hex) is:' , str(target))\n",
    "\n",
    "target = int(coefficient, 16)\n",
    "\n",
    "print('The target (in hex) is:' , str(target))\n"
   ]
  },
  {
   "cell_type": "code",
   "execution_count": 80,
   "metadata": {},
   "outputs": [
    {
     "name": "stdout",
     "output_type": "stream",
     "text": [
      "The target (in hex) is: 25100974094617268335075366062347480202344008198530079569242512873750528\n",
      "The target (in hex) is:  000003a30c000000000000000000000000000000000000000000000000000000\n"
     ]
    }
   ],
   "source": [
    "bits = '0x1e03a30c'\n",
    "exponent = bits[2:4]\n",
    "coefficient = bits[4:]\n",
    "exponent2 = int(\"8\", 16) * (int(exponent, 16) - int(\"3\", 16))\n",
    "\n",
    "\n",
    "target = int(coefficient, 16) * (int(\"2\", 16)) ** exponent2\n",
    "\n",
    "print('The target (in hex) is:' , str(target))\n",
    "\n",
    "target1 = format(target, 'x')\n",
    "\n",
    "print('The target (in hex) is: ', str(target1).zfill(64))\n"
   ]
  },
  {
   "cell_type": "code",
   "execution_count": 81,
   "metadata": {},
   "outputs": [],
   "source": [
    "import struct, time\n",
    "\n",
    "import os \n",
    "import ecdsa\n",
    "import binascii\n",
    "\n",
    "Merkleroot =  '8b04c968f068a0eaf77682aed3f71a648b8913e3cfcbc3ca33321b38fce31946'\n",
    "\n"
   ]
  },
  {
   "cell_type": "code",
   "execution_count": null,
   "metadata": {},
   "outputs": [],
   "source": [
    "'''\n",
    "print(target_byte, partial_header)\n",
    "\n",
    "mining_start_time = time.time()\n",
    "\n",
    "while nonce = < 0x100000000:\n",
    "    header = partial_header + struct.pack(\"<L\", nonce)\n",
    "\n",
    "\n",
    "\n",
    "'''\n",
    "\n"
   ]
  },
  {
   "cell_type": "code",
   "execution_count": 3,
   "metadata": {},
   "outputs": [
    {
     "name": "stdout",
     "output_type": "stream",
     "text": [
      "The target (in hex) is: 25100974094617268335075366062347480202344008198530079569242512873750528\n",
      "The target (in hex) is:  000003a30c000000000000000000000000000000000000000000000000000000\n",
      "==============================\n",
      "50000 da41e5db7aec05e31682944002a5eae59545d2f547cfee4962ad508f8927ee95 333188.0143624289 per second\n",
      "100000 840d2a350f445fffc4bd3170ed3717ebfaaf6d5398b0715f706e4158d10253c6 331460.7238817765 per second\n",
      "150000 dd6251f02d0dfe1abf59b78c8cb5f73a54f448e0af9f16428acf6288a31356dc 318550.05673334416 per second\n",
      "200000 56b080f285bcf708249535b1ef1cf63bede93f2e3810dda703ccaead707ea202 306526.44256681576 per second\n",
      "250000 fa63953b77da4e325e0005921c0ac6d1e045edd84521d9840a0e26b05666c606 308668.1632381521 per second\n",
      "300000 8506cd0c357a94b4b54f85917823d565e0a45eb7f3edea2ebc291d9c87b63f8c 312722.4991531357 per second\n",
      "350000 1dc4008afc894707f41b89fd0861bc3c4fc347cc142af52d37123810865762f5 313710.4994685323 per second\n",
      "400000 0aa30ec5ff20486a97d5105cd3fded874914a1b136e0227c98c0198174088e44 317880.0438436521 per second\n",
      "450000 cff5171dc2ef461fc54c62c46e68fe87c0962552bc8edf105726f9d46560e1a7 317172.7709275501 per second\n",
      "500000 49f2133e3da2abebc951fe3b648b1c831a6c5afcf3a2fbfefa5e8b9364868d43 314380.760512441 per second\n",
      "550000 950a71558dbd578bfd6e47595ea62f896548a971eeeb9195b65980c5366733ec 315768.5725248006 per second\n",
      "600000 b325adab6ae93e32eac96306ca27c8c5681c5216a484fed04b46e47390a1e2f0 316990.0472288999 per second\n",
      "650000 d9e3f3a67429f47d3e814a475097e32ef4912d9d5018b6d1680361ce0a7ad801 316647.314883459 per second\n",
      "700000 35a6a0ae7d0d6c74ea34e49c3f8843c7749fa3db60b5e073603de9270968a7c7 317848.34066784667 per second\n",
      "750000 c1b8cb43f1c9414589566280432cef22df7f97767b92b6b7c5fa522ae751b0f4 317613.825332024 per second\n",
      "800000 64ff41390acf75b501e57d3d9b545a476fc21bc66874e16693d00d23a518d20a 318460.17367691104 per second\n",
      "850000 82e402c5b2c4d1f020845d5c8d0fb0ecb93b62123d937c56e77227fc7ab23b59 318934.33965991036 per second\n",
      "900000 f0e98795bf121c0a0bf55d7d348aca5f3d2bb3e946ec05d9f1c42346e391440d 319568.1021582109 per second\n",
      "950000 b2e8de832677afb15b94e9675c650c36e17ae682df6c38ca75ffe589b3de9c8c 318452.5747609601 per second\n",
      "1000000 e21d962ed16fd4c179c4ae4247cef16e3a562648913b3028e8b81bdcd91c15a7 319161.091771415 per second\n",
      "1050000 4ba5676202a038339024ea96a3c6d1e29dcf8511db35b68c55d3dd6931b2852a 318635.72411823156 per second\n",
      "1100000 b03af5228453a98528ce54345f832297e609372adddfb95d4f4e8f9498d77973 319237.7265782506 per second\n",
      "1150000 453ab392afd01538c98f0de4ce03f1c65d3afa3486ca66333dba6f46687c999a 319391.69862934604 per second\n",
      "1200000 5aa34111b38af9f7936ace14a1a9cc8dddd75142a1a6afce6149a7a3fdca57b1 319318.75482324924 per second\n",
      "1250000 d4911bffb81b3c5bc20234f91b4888e5664f881e74c6d393d13fe4ce2e402d44 318873.91808918933 per second\n",
      "1300000 432149f503ff32fbb9975f3192d1070a3de1813939692c883730a7f72c92cbb2 319562.0859757917 per second\n",
      "1350000 2a3e8c13e502ddddae52f31f03b76750c991f94174f71a0aa3318188a8bfaf7a 316587.0145272598 per second\n",
      "1400000 090b9ce32b04d69ba37432057bf847562dd1d65f652363262eec2fe101a6ce1f 317354.228467242 per second\n",
      "1450000 741e1c5efde2d8e1e7ddccc965aa122190860ae484ace5a395022a449424ff3b 317406.24726165424 per second\n",
      "1500000 df907a9872d80d0f3e1c51e35807cdae1a54b98c4892ebd6b841d0d6aef3fefe 317053.4419827451 per second\n",
      "1550000 37af9b0c8d96d403adc6fe7831bc4f31a4fa676fc4a8add8c826bad547501af2 316720.049551425 per second\n",
      "1600000 87b7c928c5b30a704b00c841cf8674c239d1d6e799271356fa11598741c83a4e 317228.97806010843 per second\n",
      "1650000 16a83105fe79f2deb8be42123d87396612bcfbd68c60a3251b7fcfcd75c995e7 317302.43748699606 per second\n",
      "1700000 7eff33503db54ddaa22243ed4e60cd16f072cf09a5176c541242d7dc1ed2f603 317727.5353887297 per second\n",
      "1750000 041555da8ae65d1dbe8cdac8aabb80f050b3a2b48dd2e6cdd53dce4fcb3bbe5f 316597.27221152023 per second\n",
      "1800000 5540667496d4c8800c3354be1c40a147e8403761da8fc2e84df44263525fcc0f 317228.46487585554 per second\n",
      "1850000 f22233939d5e0b05d70d2fd012b685d54f5d16e496bf8d12a40f7fb6c380fca8 317097.3318415649 per second\n",
      "1900000 71d76a5328d0a3a3f728a18b1218e613618e6757f0c4214a93d018f727d61686 317502.5042257689 per second\n",
      "1950000 9be26b2f82d0ac760828b595c12ea854d8c8b1adf288a90c57b4b234fe9a03e1 317463.30337724986 per second\n",
      "2000000 9faaf902d9a7d8dd9196274d4338f646a0687e42ca74a9d5c72a79576083dd2b 317649.4252734283 per second\n",
      "2050000 551767143cd068be6bf017f0d458968d4c91f7f9587c684a765f086c859f144f 314317.0570764502 per second\n",
      "2100000 af7465884386cacb6fca87eeb8ef2950ff193b219fb1da38b1e1bb89c54ebe87 314977.196973357 per second\n",
      "2150000 42e9a9c3797b31898c24ec56e2fdccd1fdba8138a765bbd8eb08a6ee1cbdce61 315392.4058442432 per second\n",
      "2200000 4136d7f1e2a9920a88eb9fb4aef51d60b176934a1efe5d993ff41da1e2c25164 315633.84981387714 per second\n",
      "2250000 7513f1cbf26a9b26f47fbd90ebb5fb700d0f75d44861eeea211ae440662cbd65 315469.89121398213 per second\n",
      "2300000 ef77b8e4b5342ba5d39940f1276b4233bd961efc0045a83187bb3c8831e64207 315876.79778981506 per second\n",
      "2350000 b7139847b8e7d6f8387a19067f220ab42390ae1b9f1674738a48d3bc6246bf06 315819.8314032228 per second\n",
      "2400000 31c6aa9f55c57534e8d9d0ebd0fa2c35ea9c3aa7592c7df19a47689bd14e6810 316321.83237672626 per second\n",
      "2450000 b0f01e5814d5bbc6a70eac0f299d8f65ac2146bfe42ded6072dce9321eb0aa56 316508.9400911496 per second\n",
      "2500000 584e88042f88f1f46ccbf2e288f5e36841d96d2d61a291d5a241d2952f66be81 316509.02178513905 per second\n",
      "2550000 7dd6da5d55855975a0b2c5c6d31c0efc537ba5bc279479e3d478bc213625b24b 316501.56050974637 per second\n",
      "2600000 ec20dbaf044cddc426895e026c895f05366ad75177988ccaac7bbfa6d708bb81 316983.4008530585 per second\n",
      "2650000 6f2fbdb7d016e086ad222805b37cbbad16fb803ad98390c81429ca3839a22dfe 316282.6268646286 per second\n",
      "2700000 7bbb9146ce94e5a58b98c847d39e8cbae49eaafe6e6b009604d3229d740cdc2d 316393.46863786166 per second\n",
      "2750000 4a7598737d4e4f4ef6242809376c0123f6f7eff3f5d94ede8852c3a5eed5b794 316582.5494868144 per second\n",
      "2800000 d52606c92ab5ca981089c6327ba033dc30bf96625d22a264f32dbf62f0d12952 316922.33485575387 per second\n",
      "2850000 b0a6a169c69eac0f1460fb8ef6ef51a04dd403a7b53c83ff53a28e143a4ed94a 317067.42811726884 per second\n",
      "2900000 7866dff1d4ba5d1e02b97d6ee665acc119986c45e0d24382c8f32c2cf8c0fe2c 317339.2873076094 per second\n",
      "2950000 98212927c7f9d48008ffe990960311fdbdd37b06d41049502c85d36da628bfdd 316152.022219055 per second\n",
      "3000000 e9d35748aac526d1f01882fe42223b89f8f81a5bcb23c251dbcbf6212b025e31 316515.8910551878 per second\n",
      "3050000 c54ef431c1f1d5a73a52837927bbf5fdb6404652f26de0a7cafe46b4cfaf5a12 316518.8512967779 per second\n",
      "3100000 e34f16a706207d74b6efa36526e31c6d9ae2e7caecee5aea589ad800ce59f973 316953.06383184216 per second\n",
      "3150000 14cba16316537e6d75b6b20011e3096c63ba9fe2f967a8b78a7912ad4487f9b3 316880.8545173529 per second\n",
      "3200000 65dcfbd9e9a37e44cf0b5f63001cb433f9e3328ce9becc4690befe7941e139bd 317284.9817696339 per second\n",
      "3250000 283431ebdb6d307e251404fb2a0f7181e719c7c61494a46aca59ddadb3067985 317434.6072839215 per second\n",
      "3300000 3fa46f5471091ddd33fea0d44d1e78c2d46024d05870a598621b861814b7a758 317637.30698555906 per second\n",
      "3350000 f050d8996d721ad28ab43b030a7e4c5ab214402723b738b0e3d91deceecbeed9 317587.717079619 per second\n",
      "3400000 9086f8b53e62565ff6055f9566fa7efbd72ca6867dc619ade9966d727b263018 317860.8531652642 per second\n",
      "3450000 6a762d0564b5276bd6d971504a88d1591840e4685c42433325032682cb119fce 317940.74632582953 per second\n",
      "3500000 0bf1421623ab5515df49bee5126c997d3ea7d9a60966f23deac5be94e19c9032 318157.8067111326 per second\n",
      "3550000 998e8e6517aa29c9590f7f372783116beeb6a804a55a2437d04c57ace67c7864 318147.1858737649 per second\n",
      "3600000 afeed88f115e3582220a9167f7398137ee65e0e78c1be7779a3a760639660342 318298.69175489614 per second\n",
      "3650000 123931d0a15f4198d7a8fb81bd520c73283ac46af8dfba29cf421a874ef20b37 318382.9255419449 per second\n",
      "3700000 bcd8580652957196cc5d06ab44dffb30f3f57b1c7e9d44e1a2118bf332203dde 318545.97007632104 per second\n",
      "3750000 4c3cc86118f34709944463c0baf370ca10dd292cc11fd74249b804df77b32ae8 318653.1923666379 per second\n",
      "3800000 d3f701b23479ac53b409df65ccb49eecec12a7e65f0cde364984367c633a467d 318662.3087131566 per second\n",
      "3850000 1f7fdcaafba14ee468013179cda5db0a1ccadb89699dd14a101c0faeb31e1923 318709.7183698365 per second\n",
      "3900000 f9daec7388d6880a3004ce4ae6382e055c117cf1797ca0e8c1ec7472b0938964 318887.2711898281 per second\n",
      "3950000 0c14939cf943fcc1e9fb44f67943a6ef5ad00dc465dbe822ef894895618d9ec8 319033.7315546808 per second\n",
      "4000000 b681537194e42cffe8b88df44fc02d1c93fe89a344f79b227a948302701bbac7 319250.56300559087 per second\n",
      "4050000 1501bbbac88aaee9e513ce2638ce882b734f4b46dc006b70527e216b22f40bba 319397.12199972174 per second\n",
      "4100000 a04c8a770b5f50a4fcbbc5cfdcf99a6096a5e5bed0b898f03545a9a94b436f57 319540.08174537396 per second\n",
      "4150000 8fcb1819ca5efa17d9030a490269d4a1dfbdb0eecdd1ea2968840e3722e95c66 319184.14369538135 per second\n",
      "4200000 f789c7f8ceaad7eacce7cee57f0d67fa3fff673512fa1d8c18bd83461f61eadf 319287.8317411212 per second\n",
      "4250000 c18f1ef01a6327377a0950142cc39e768267f5b532ea2a26249a3721d8368d17 319181.05343797064 per second\n",
      "4300000 a1d3a6a096374d26a5649e0be0aae47c07013eaf8f6b42f01948f2a49ffd6b37 319252.34707600955 per second\n",
      "4350000 774a3637650231284eff5817ca1b6dded03f7855689317e2612d6b8df17610ce 319413.7018947295 per second\n",
      "4400000 118349febe7fc11635326898af7826c635abd07a78fb0c58f7f16d3ad99a1297 319527.7808399414 per second\n",
      "4450000 96546e6deb834b19da657cd806a9b100e3ca6237e8e4a1ec28d2b89dc896f25c 319615.90443805 per second\n",
      "4500000 5fcc25f84252f7452ad2e272cec1a0fac3311558cb2d7b660dc24b08a6d0bad1 319761.2784807566 per second\n",
      "4550000 18a16ae61a6293c271ad47723e205085632a45fdd59ad34914b1c5809feb7566 319531.25618718663 per second\n",
      "4600000 c6a48f76876a91bcedf8197e60b54179cbb525a43540b79a20c56ab79c08b091 319535.7987675203 per second\n",
      "4650000 957d83398f5ac9ef3cd279ae29e423f6c36452b61c723c56ec1e55a2f72ee150 319638.34078194137 per second\n",
      "Success 4692615 b'00000296580c61b7a0f3abe8e138648ade0433c906151681b9dd448f3582c8f1'\n"
     ]
    }
   ],
   "source": [
    "import struct, time\n",
    "\n",
    "import os \n",
    "import ecdsa\n",
    "import binascii\n",
    "\n",
    "Merkleroot =  '8b04c968f068a0eaf77682aed3f71a648b8913e3cfcbc3ca33321b38fce31946'\n",
    "from hashlib import sha256\n",
    "\n",
    "def dsha(tx):\n",
    "    return sha256(sha256(tx).digest()).digest()\n",
    "\n",
    "\n",
    "def rev(buf):\n",
    "    return buf[::-1]\n",
    "    \n",
    "\n",
    "\n",
    "\n",
    "ver = 2 \n",
    "\n",
    "prev_block = '01000000017b1eabe0209b1fe794124575ef807057c77ada'\n",
    "\n",
    "time_ = 0x5D21AB68\n",
    "\n",
    "bits = '0x1e03a30c'\n",
    "exponent = bits[2:4]\n",
    "coefficient = bits[4:]\n",
    "exponent2 = int(\"8\", 16) * (int(exponent, 16) - int(\"3\", 16))\n",
    "\n",
    "\n",
    "target = int(coefficient, 16) * (int(\"2\", 16)) ** exponent2\n",
    "\n",
    "print('The target (in hex) is:' , str(target))\n",
    "\n",
    "target1 = format(target, 'x')\n",
    "\n",
    "print('The target (in hex) is: ', str(target1).zfill(64))\n",
    "\n",
    "\n",
    "\n",
    "target_byte = bytes.fromhex(str(target1).zfill(64))\n",
    "\n",
    "partial_header = struct.pack(\"<L\", ver) + bytes.fromhex(prev_block)[::-1] + bytes.fromhex(Merkleroot)[::-1]\\\n",
    "    + struct.pack(\"<LL\", time_, int(bits, 16))\n",
    "    \n",
    "print(\"=\"*30)\n",
    "\n",
    "\n",
    "while True:\n",
    "    user_input = input('Please key in an non-negative integer: \\n')\n",
    "    try:\n",
    "        nonce = int(user_input)\n",
    "        if nonce < 0:\n",
    "            print(\"It is a negative int. Please try again. \")\n",
    "            continue\n",
    "        else:\n",
    "            break\n",
    "    except ValueError:\n",
    "        print('That is not an integer')\n",
    "        continue\n",
    "    \n",
    "mining_start_time = time.time()\n",
    "while nonce < 0x10000000:\n",
    "    header = partial_header + struct.pack(\"<L\", nonce)\n",
    "    hash = dsha(header)\n",
    "        \n",
    "    if nonce in range(50000, 20000000, 50000):\n",
    "        mining_time = time.time() - mining_start_time\n",
    "    \n",
    "        hash_rate = nonce / mining_time\n",
    "    \n",
    "        print(nonce, hash[::-1].hex(), hash_rate, \"per second\")\n",
    "\n",
    "    if hash[::-1] < target_byte:\n",
    "        print(\"Success\", nonce, binascii.hexlify(hash[::-1]))\n",
    "        break\n",
    "    nonce += 1\n"
   ]
  },
  {
   "cell_type": "code",
   "execution_count": null,
   "metadata": {},
   "outputs": [],
   "source": []
  },
  {
   "cell_type": "code",
   "execution_count": null,
   "metadata": {},
   "outputs": [],
   "source": []
  },
  {
   "cell_type": "code",
   "execution_count": null,
   "metadata": {},
   "outputs": [],
   "source": []
  },
  {
   "cell_type": "code",
   "execution_count": null,
   "metadata": {},
   "outputs": [],
   "source": []
  },
  {
   "cell_type": "code",
   "execution_count": null,
   "metadata": {},
   "outputs": [],
   "source": []
  },
  {
   "cell_type": "code",
   "execution_count": null,
   "metadata": {},
   "outputs": [],
   "source": []
  },
  {
   "cell_type": "code",
   "execution_count": null,
   "metadata": {},
   "outputs": [],
   "source": []
  },
  {
   "cell_type": "code",
   "execution_count": null,
   "metadata": {},
   "outputs": [],
   "source": []
  },
  {
   "cell_type": "code",
   "execution_count": null,
   "metadata": {},
   "outputs": [],
   "source": []
  },
  {
   "cell_type": "code",
   "execution_count": null,
   "metadata": {},
   "outputs": [],
   "source": []
  },
  {
   "cell_type": "code",
   "execution_count": null,
   "metadata": {},
   "outputs": [],
   "source": []
  }
 ],
 "metadata": {
  "kernelspec": {
   "display_name": "Python 3.8.13 ('blockchainDev')",
   "language": "python",
   "name": "python3"
  },
  "language_info": {
   "codemirror_mode": {
    "name": "ipython",
    "version": 3
   },
   "file_extension": ".py",
   "mimetype": "text/x-python",
   "name": "python",
   "nbconvert_exporter": "python",
   "pygments_lexer": "ipython3",
   "version": "3.8.13"
  },
  "orig_nbformat": 4,
  "vscode": {
   "interpreter": {
    "hash": "1e9c44cc3bc95fb73b0aae724063041b6d6060f5ce93be071123fdfeed5e731e"
   }
  }
 },
 "nbformat": 4,
 "nbformat_minor": 2
}
