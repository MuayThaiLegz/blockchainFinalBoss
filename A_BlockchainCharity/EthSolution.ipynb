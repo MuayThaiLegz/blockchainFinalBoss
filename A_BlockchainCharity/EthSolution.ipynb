{
 "cells": [
  {
   "cell_type": "code",
   "execution_count": 4,
   "metadata": {},
   "outputs": [
    {
     "name": "stderr",
     "output_type": "stream",
     "text": [
      "2022-06-29 14:14:38.694 WARNING dotenv.main: Python-dotenv could not parse statement starting at line 27\n",
      "2022-06-29 14:14:38.695 WARNING dotenv.main: Python-dotenv could not parse statement starting at line 28\n"
     ]
    }
   ],
   "source": [
    "from web3 import Web3\n",
    "from web3 import Account\n",
    "import time\n",
    "from six import b\n",
    "import os \n",
    "import json\n",
    "import streamlit as st\n",
    "from eth_account import account\n",
    "from eth_typing.evm import Address\n",
    "from pathlib import Path\n",
    "from dotenv import load_dotenv\n",
    "from dataclasses import dataclass\n",
    "from datetime import datetime\n",
    "from typing import Any\n",
    "from bip44 import Wallet\n",
    "from mnemonic import Mnemonic\n",
    "import sqlite3\n",
    "\n",
    "conn = sqlite3.connect('abc.db')\n",
    "c = conn.cursor()\n",
    "\n",
    "load_dotenv()\n",
    "mnemonic = os.getenv(\"MNEMONIC\")\n",
    "\n",
    "#w3 = Web3(Web3.HTTPProvider(\"HTTP://127.0.0.1:8545\"))\n",
    "w3 = Web3(Web3.HTTPProvider(os.getenv(\"HTTP://127.0.0.1:8545\")))\n",
    "w3.eth.defaultAddress = '0x5765556B62063d24b5df41112E180A821623BFc3'\n",
    "\n",
    "    ## find a way to extract ammount of have them allow us to handle transaction \n",
    "w3.isConnected()\n",
    "\n",
    "w3.eth.defaultAccount  = '0x56F0274dA73FC6e58D5fF92cb08C85d639f47751'\n",
    "\n",
    "contract_location = w3.eth.defaultAccount\n",
    "\n",
    "accounts = w3.eth.accounts\n",
    "\n"
   ]
  },
  {
   "cell_type": "code",
   "execution_count": 5,
   "metadata": {},
   "outputs": [],
   "source": [
    "publicKey = '0x5f416cd5d518b93664384c2472765826f4aad4afd81125588074022e94ff00b87eb24b340469070e34ab076b9c02d50ed430c1f8946974f86c4c446f466cc207'\n",
    "privateKey = '0x2c32649a105f98108cbf05f166ff5590bef0da0c6f17a3e34999b0aa7b6a2a54'\n",
    "address = '0x56F0274dA73FC6e58D5fF92cb08C85d639f47751'"
   ]
  },
  {
   "cell_type": "code",
   "execution_count": 6,
   "metadata": {},
   "outputs": [
    {
     "name": "stdout",
     "output_type": "stream",
     "text": [
      "tx hash => 0b'`+w\\x9e\\xdd\\x81\\xf7+C=,Tb\\xe7\\x0b_\\xc5\\xbel\\x10er\"\\x0b5\\t\\xd4\\xab\\xee\\x99\\xec\\xa9'\n"
     ]
    }
   ],
   "source": [
    "#Set the transaction, from the first account of the node to the second account to 100wei\n",
    "payload = {\n",
    "  'from': '0xAC8d13b884B76d9c2Bc03792301823bfb2DD6a74',\n",
    "  'to': address,\n",
    "  'value': 40000000000000\n",
    "}\n",
    " # Submit the transaction to the Ethereum node, the ** node will return the hash value of the transaction**\n",
    "tx_hash = w3.eth.send_transaction(payload)\n",
    "#sendTransaction(payload)\n",
    "print(f'tx hash => {0}{tx_hash}')"
   ]
  },
  {
   "cell_type": "code",
   "execution_count": null,
   "metadata": {},
   "outputs": [],
   "source": []
  },
  {
   "cell_type": "code",
   "execution_count": null,
   "metadata": {},
   "outputs": [],
   "source": []
  },
  {
   "cell_type": "code",
   "execution_count": null,
   "metadata": {},
   "outputs": [],
   "source": []
  },
  {
   "cell_type": "code",
   "execution_count": null,
   "metadata": {},
   "outputs": [],
   "source": []
  },
  {
   "cell_type": "code",
   "execution_count": null,
   "metadata": {},
   "outputs": [],
   "source": [
    "\n",
    "def convertToBinaryData(filename):\n",
    "    with open(filename, 'rb') as file:\n",
    "        blobData = file.read()\n",
    "    return blobData\n",
    "\n",
    "\n",
    "\n",
    "def make_hashes(password):\n",
    "\treturn hashlib.sha256(str.encode(password)).hexdigest()\n",
    "\n",
    "\n",
    "def hash_users(username):\n",
    "\treturn hashlib.sha256(str.encode(username)).hexdigest()\n",
    "\n",
    "\n",
    "\n",
    "def check_hashes(password, hashed_text):\n",
    "\tif make_hashes(password) == hashed_text:\n",
    "\t\treturn hashed_text\n",
    "\treturn False\n",
    "\n",
    "\n",
    "def check_users(username, hash_users):\n",
    "\tif hash_users(username) == hash_users:\n",
    "\t\treturn hash_users\n",
    "\treturn False\n",
    "\n",
    "\n",
    "\n",
    "\n"
   ]
  },
  {
   "cell_type": "code",
   "execution_count": null,
   "metadata": {},
   "outputs": [],
   "source": [
    "#Set the transaction, from the first account of the node to the second account to 100wei\n",
    "payload = {\n",
    "  'from': '0xAC8d13b884B76d9c2Bc03792301823bfb2DD6a74',\n",
    "  'to': address,\n",
    "  'value': 40000000000000\n",
    "}\n",
    " # Submit the transaction to the Ethereum node, the ** node will return the hash value of the transaction**\n",
    "tx_hash = IPC_web3.eth.send_transaction(payload)\n",
    "#sendTransaction(payload)\n",
    "print(f'tx hash => {0}{tx_hash}')\n",
    "\n",
    " #Read the account balance after the transaction (ganache is the transaction completed in real time, so this can immediately see the transaction completed, the balance changes)\n",
    "frombalance = IPC_web3.eth.getBalance(accounts[0],'latest')\n",
    "tobalance = IPC_web3.eth.getBalance(\"0x5466308f03f95Ac638707193EF2660dc3E0d36e8\",'latest')"
   ]
  },
  {
   "cell_type": "code",
   "execution_count": null,
   "metadata": {},
   "outputs": [],
   "source": []
  }
 ],
 "metadata": {
  "kernelspec": {
   "display_name": "Python 3.8.13 ('blockchainDev')",
   "language": "python",
   "name": "python3"
  },
  "language_info": {
   "codemirror_mode": {
    "name": "ipython",
    "version": 3
   },
   "file_extension": ".py",
   "mimetype": "text/x-python",
   "name": "python",
   "nbconvert_exporter": "python",
   "pygments_lexer": "ipython3",
   "version": "3.8.13"
  },
  "orig_nbformat": 4,
  "vscode": {
   "interpreter": {
    "hash": "1e9c44cc3bc95fb73b0aae724063041b6d6060f5ce93be071123fdfeed5e731e"
   }
  }
 },
 "nbformat": 4,
 "nbformat_minor": 2
}
