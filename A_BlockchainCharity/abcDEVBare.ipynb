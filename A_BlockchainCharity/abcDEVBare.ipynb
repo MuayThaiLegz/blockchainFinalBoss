{
 "cells": [
  {
   "cell_type": "code",
   "execution_count": 1,
   "metadata": {},
   "outputs": [],
   "source": [
    "import profile\n",
    "import sqlite3\n",
    "from eth_utils.curried import keccak\n",
    "from eth_keys import keys\n",
    "from web3 import Account, HTTPProvider\n",
    "from bdb import effective\n",
    "import pandas as pd\n",
    "from turtle import pu\n",
    "from attr import validate\n",
    "from PIL import Image\n",
    "import pathlib as Path\n",
    "from questionary import form\n",
    "from eth_account import account, Account\n",
    "from eth_typing.evm import Address\n",
    "from bip44 import Wallet\n",
    "import secrets\n",
    "from dotenv import load_dotenv\n",
    "from gzip import READ\n",
    "import os \n",
    "import json\n",
    "from eth_account import account\n",
    "from eth_typing.evm import Address\n",
    "from matplotlib import pyplot as plt\n",
    "from dataclasses import dataclass\n",
    "from datetime import datetime\n",
    "from typing import Any\n",
    "from web3 import Web3\n",
    "from mnemonic import Mnemonic\n",
    "import hashlib\n",
    "import time\n",
    "import base64\n",
    "from numpy import asarray\n",
    "from PIL import Image\n",
    "from numpy import asarray\n",
    "\n",
    "import matplotlib.image as img\n",
    "from PIL import Image as im\n",
    "\n",
    "\n",
    "\n",
    "\n",
    "\n",
    "import hashlib\n",
    "\n",
    "import time\n"
   ]
  },
  {
   "cell_type": "code",
   "execution_count": 7,
   "metadata": {},
   "outputs": [
    {
     "name": "stdout",
     "output_type": "stream",
     "text": [
      "3\n",
      "2\n",
      "1\n"
     ]
    }
   ],
   "source": [
    "# In Python we define a Node class as follows:\n",
    "# Wecanmanage the collection of Nodeinstances creating another class,\n",
    "# called LinkedList. The class keeps track of head of list\n",
    "\n",
    "\n",
    "class Node:\n",
    "    def __init__(self, value):\n",
    "        self.next = None\n",
    "        self.value=  value\n",
    "\n",
    "class  LinkedList:\n",
    "    def __init__(self):\n",
    "        self.head = None\n",
    "    def push_front(self, value):\n",
    "        if self.head == None:\n",
    "            self.head = Node(value)\n",
    "        else:\n",
    "            # We replace the head\n",
    "            new_head = Node(value)           \n",
    "            new_head.next = self.head\n",
    "            self.head = new_head\n",
    "        # For debugging implement LinkedList.show that print each element\n",
    "    def show(self):\n",
    "        node = self.head\n",
    "        while node is not None:\n",
    "            print(node.value)\n",
    "            node = node.next\n",
    "            \n",
    "            \n",
    "            \n",
    "first = LinkedList()\n",
    "first.push_front(1)\n",
    "first.push_front(2)\n",
    "first.push_front(3)\n",
    "first.show()\n"
   ]
  },
  {
   "cell_type": "code",
   "execution_count": 42,
   "metadata": {},
   "outputs": [],
   "source": [
    "def connectToWeb3_viaGeth():\n",
    "    HTTP_web3 = Web3(Web3.HTTPProvider(os.getenv(\"HTTP://127.0.0.1:8545\")))\n",
    "    \n",
    "    return HTTP_web3\n",
    "    \n",
    "HTTP_web3 = connectToWeb3_viaGeth()"
   ]
  },
  {
   "cell_type": "code",
   "execution_count": 2,
   "metadata": {},
   "outputs": [],
   "source": [
    "\n",
    "class Charity(object):\n",
    "    name = \"\"\n",
    "    address = \"\"\n",
    "\n",
    "    # The class \"constructor\" - It's actually an initializer\n",
    "    def __init__(self, name, address):\n",
    "        self.name = name\n",
    "        self.address = address\n",
    "\n",
    "bitGive = Charity(\"ABC\", \"0x2fa027864b2336dFF1a2cA9a0120B934234742A0\")\n",
    "charities = [bitGive]\n"
   ]
  },
  {
   "cell_type": "code",
   "execution_count": 3,
   "metadata": {},
   "outputs": [],
   "source": [
    "def web3Line():\n",
    "    \n",
    "    key_bytes = keccak(os.urandom(32) + b'add some entropy')\n",
    "    \n",
    "    privateKey = keys.PrivateKey(key_bytes)# Create a private key object\n",
    "\n",
    "    publicKey = privateKey.public_key\n",
    "    address = publicKey.to_checksum_address()  # public key converted to address\n",
    "\n",
    "    return address\n"
   ]
  },
  {
   "cell_type": "code",
   "execution_count": null,
   "metadata": {},
   "outputs": [],
   "source": []
  },
  {
   "cell_type": "code",
   "execution_count": null,
   "metadata": {},
   "outputs": [],
   "source": [
    "def trans(donor, abcADD):\n",
    "    guts = {\"from\": donor, \"to\": abcADD,\n",
    "          \"value\": 1000000000000, \"gas\": 21000, \"gasPrice\": 0,\n",
    "          'nonce':21}\n",
    "    \n",
    "    return guts"
   ]
  },
  {
   "cell_type": "code",
   "execution_count": 39,
   "metadata": {},
   "outputs": [],
   "source": [
    "class Donation:\n",
    "    \n",
    "    def __init__(self, message):\n",
    "        \n",
    "        self.message = hash(message)\n",
    "        self.recevingAdd = web3Line()\n",
    "        \n",
    "        \n",
    "        \n",
    "        self.P_lenOfDeposit = 8 #input(\"What's your net monthly income?\")\n",
    "        self.P_shareOfIntrestToDonate = .35 #input(\"What's your current amount of monthly espenses?\")\n",
    "        self.NumofNativeTokesDeposited = 5000 # input(\"What's your asset portfolio value?\")\n",
    "        \n",
    "        self.DonationDetails = {'Length Of Deposit' : self.P_lenOfDeposit,\n",
    "                                'Intrest To Donate' : self.P_shareOfIntrestToDonate,\n",
    "                                \"Num of Native Token Deposited\" : self.NumofNativeTokesDeposited}\n",
    "        \n",
    "    def __str__(self):\n",
    "        return self.DonationDetails   \n",
    "        \n",
    "    def deposit(self):\n",
    "        donor = '0x84e00525674338A1322357316D2e2a07667AA0De'\n",
    "        OneUseAdd = self.recevingAdd\n",
    "        TokenCount = self.NumofNativeTokesDeposited\n",
    "\n",
    "        signed_txn = HTTP_web3.eth.sign_transaction({\"from\": donor, \"to\": OneUseAdd,\n",
    "          \"value\": 1000000000000, \"gas\": 21000, \"gasPrice\": 0,\n",
    "          'nonce':21}, pk)\n",
    "        \n",
    "        txn_hash = HTTP_web3.eth.send_raw_transaction(signed_txn.rawTransaction)\n",
    "        \n",
    "        return signed_txn, txn_hash\n",
    "    \n",
    "donator = Donation('hello world')"
   ]
  },
  {
   "cell_type": "code",
   "execution_count": 40,
   "metadata": {},
   "outputs": [],
   "source": [
    "abcline = donator.recevingAdd  \n"
   ]
  },
  {
   "cell_type": "code",
   "execution_count": 41,
   "metadata": {},
   "outputs": [
    {
     "ename": "ValueError",
     "evalue": "{'message': 'Method eth_signTransaction not supported.', 'code': -32000, 'data': {'stack': 'Error: Method eth_signTransaction not supported.\\n    at GethApiDouble.handleRequest (C:\\\\Program Files\\\\WindowsApps\\\\GanacheUI_2.5.4.0_x64__5dg5pnz03psnj\\\\app\\\\resources\\\\static\\\\node\\\\node_modules\\\\ganache-core\\\\lib\\\\subproviders\\\\geth_api_double.js:70:16)\\n    at next (C:\\\\Program Files\\\\WindowsApps\\\\GanacheUI_2.5.4.0_x64__5dg5pnz03psnj\\\\app\\\\resources\\\\static\\\\node\\\\node_modules\\\\ganache-core\\\\node_modules\\\\web3-provider-engine\\\\index.js:136:18)\\n    at GethDefaults.handleRequest (C:\\\\Program Files\\\\WindowsApps\\\\GanacheUI_2.5.4.0_x64__5dg5pnz03psnj\\\\app\\\\resources\\\\static\\\\node\\\\node_modules\\\\ganache-core\\\\lib\\\\subproviders\\\\gethdefaults.js:15:12)\\n    at next (C:\\\\Program Files\\\\WindowsApps\\\\GanacheUI_2.5.4.0_x64__5dg5pnz03psnj\\\\app\\\\resources\\\\static\\\\node\\\\node_modules\\\\ganache-core\\\\node_modules\\\\web3-provider-engine\\\\index.js:136:18)\\n    at SubscriptionSubprovider.FilterSubprovider.handleRequest (C:\\\\Program Files\\\\WindowsApps\\\\GanacheUI_2.5.4.0_x64__5dg5pnz03psnj\\\\app\\\\resources\\\\static\\\\node\\\\node_modules\\\\ganache-core\\\\node_modules\\\\web3-provider-engine\\\\subproviders\\\\filters.js:89:7)\\n    at SubscriptionSubprovider.handleRequest (C:\\\\Program Files\\\\WindowsApps\\\\GanacheUI_2.5.4.0_x64__5dg5pnz03psnj\\\\app\\\\resources\\\\static\\\\node\\\\node_modules\\\\ganache-core\\\\node_modules\\\\web3-provider-engine\\\\subproviders\\\\subscriptions.js:137:49)\\n    at next (C:\\\\Program Files\\\\WindowsApps\\\\GanacheUI_2.5.4.0_x64__5dg5pnz03psnj\\\\app\\\\resources\\\\static\\\\node\\\\node_modules\\\\ganache-core\\\\node_modules\\\\web3-provider-engine\\\\index.js:136:18)\\n    at DelayedBlockFilter.handleRequest (C:\\\\Program Files\\\\WindowsApps\\\\GanacheUI_2.5.4.0_x64__5dg5pnz03psnj\\\\app\\\\resources\\\\static\\\\node\\\\node_modules\\\\ganache-core\\\\lib\\\\subproviders\\\\delayedblockfilter.js:31:3)\\n    at next (C:\\\\Program Files\\\\WindowsApps\\\\GanacheUI_2.5.4.0_x64__5dg5pnz03psnj\\\\app\\\\resources\\\\static\\\\node\\\\node_modules\\\\ganache-core\\\\node_modules\\\\web3-provider-engine\\\\index.js:136:18)\\n    at RequestFunnel.handleRequest (C:\\\\Program Files\\\\WindowsApps\\\\GanacheUI_2.5.4.0_x64__5dg5pnz03psnj\\\\app\\\\resources\\\\static\\\\node\\\\node_modules\\\\ganache-core\\\\lib\\\\subproviders\\\\requestfunnel.js:32:12)\\n    at next (C:\\\\Program Files\\\\WindowsApps\\\\GanacheUI_2.5.4.0_x64__5dg5pnz03psnj\\\\app\\\\resources\\\\static\\\\node\\\\node_modules\\\\ganache-core\\\\node_modules\\\\web3-provider-engine\\\\index.js:136:18)\\n    at Web3ProviderEngine._handleAsync (C:\\\\Program Files\\\\WindowsApps\\\\GanacheUI_2.5.4.0_x64__5dg5pnz03psnj\\\\app\\\\resources\\\\static\\\\node\\\\node_modules\\\\ganache-core\\\\node_modules\\\\web3-provider-engine\\\\index.js:123:3)\\n    at Timeout._onTimeout (C:\\\\Program Files\\\\WindowsApps\\\\GanacheUI_2.5.4.0_x64__5dg5pnz03psnj\\\\app\\\\resources\\\\static\\\\node\\\\node_modules\\\\ganache-core\\\\node_modules\\\\web3-provider-engine\\\\index.js:107:12)\\n    at listOnTimeout (internal/timers.js:531:17)\\n    at processTimers (internal/timers.js:475:7)', 'name': 'Error'}}",
     "output_type": "error",
     "traceback": [
      "\u001b[1;31m---------------------------------------------------------------------------\u001b[0m",
      "\u001b[1;31mValueError\u001b[0m                                Traceback (most recent call last)",
      "\u001b[1;32mc:\\Users\\JBarr\\OneDrive\\Documents\\FinTech\\blockchain\\A_BlockchainCharity\\abcDEVBare.ipynb Cell 10\u001b[0m in \u001b[0;36m<cell line: 1>\u001b[1;34m()\u001b[0m\n\u001b[1;32m----> <a href='vscode-notebook-cell:/c%3A/Users/JBarr/OneDrive/Documents/FinTech/blockchain/A_BlockchainCharity/abcDEVBare.ipynb#ch0000034?line=0'>1</a>\u001b[0m donator\u001b[39m.\u001b[39;49mdeposit()\n",
      "\u001b[1;32mc:\\Users\\JBarr\\OneDrive\\Documents\\FinTech\\blockchain\\A_BlockchainCharity\\abcDEVBare.ipynb Cell 10\u001b[0m in \u001b[0;36mDonation.deposit\u001b[1;34m(self)\u001b[0m\n\u001b[0;32m     <a href='vscode-notebook-cell:/c%3A/Users/JBarr/OneDrive/Documents/FinTech/blockchain/A_BlockchainCharity/abcDEVBare.ipynb#ch0000034?line=22'>23</a>\u001b[0m OneUseAdd \u001b[39m=\u001b[39m \u001b[39mself\u001b[39m\u001b[39m.\u001b[39mrecevingAdd\n\u001b[0;32m     <a href='vscode-notebook-cell:/c%3A/Users/JBarr/OneDrive/Documents/FinTech/blockchain/A_BlockchainCharity/abcDEVBare.ipynb#ch0000034?line=23'>24</a>\u001b[0m TokenCount \u001b[39m=\u001b[39m \u001b[39mself\u001b[39m\u001b[39m.\u001b[39mNumofNativeTokesDeposited\n\u001b[1;32m---> <a href='vscode-notebook-cell:/c%3A/Users/JBarr/OneDrive/Documents/FinTech/blockchain/A_BlockchainCharity/abcDEVBare.ipynb#ch0000034?line=25'>26</a>\u001b[0m signed_txn \u001b[39m=\u001b[39m HTTP_web3\u001b[39m.\u001b[39;49meth\u001b[39m.\u001b[39;49msign_transaction({\u001b[39m\"\u001b[39;49m\u001b[39mfrom\u001b[39;49m\u001b[39m\"\u001b[39;49m: donor, \u001b[39m\"\u001b[39;49m\u001b[39mto\u001b[39;49m\u001b[39m\"\u001b[39;49m: OneUseAdd,\n\u001b[0;32m     <a href='vscode-notebook-cell:/c%3A/Users/JBarr/OneDrive/Documents/FinTech/blockchain/A_BlockchainCharity/abcDEVBare.ipynb#ch0000034?line=26'>27</a>\u001b[0m   \u001b[39m\"\u001b[39;49m\u001b[39mvalue\u001b[39;49m\u001b[39m\"\u001b[39;49m: \u001b[39m1000000000000\u001b[39;49m, \u001b[39m\"\u001b[39;49m\u001b[39mgas\u001b[39;49m\u001b[39m\"\u001b[39;49m: \u001b[39m21000\u001b[39;49m, \u001b[39m\"\u001b[39;49m\u001b[39mgasPrice\u001b[39;49m\u001b[39m\"\u001b[39;49m: \u001b[39m0\u001b[39;49m,\n\u001b[0;32m     <a href='vscode-notebook-cell:/c%3A/Users/JBarr/OneDrive/Documents/FinTech/blockchain/A_BlockchainCharity/abcDEVBare.ipynb#ch0000034?line=27'>28</a>\u001b[0m   \u001b[39m'\u001b[39;49m\u001b[39mnonce\u001b[39;49m\u001b[39m'\u001b[39;49m:\u001b[39m21\u001b[39;49m}, pk)\n\u001b[0;32m     <a href='vscode-notebook-cell:/c%3A/Users/JBarr/OneDrive/Documents/FinTech/blockchain/A_BlockchainCharity/abcDEVBare.ipynb#ch0000034?line=29'>30</a>\u001b[0m txn_hash \u001b[39m=\u001b[39m HTTP_web3\u001b[39m.\u001b[39meth\u001b[39m.\u001b[39msend_raw_transaction(signed_txn\u001b[39m.\u001b[39mrawTransaction)\n\u001b[0;32m     <a href='vscode-notebook-cell:/c%3A/Users/JBarr/OneDrive/Documents/FinTech/blockchain/A_BlockchainCharity/abcDEVBare.ipynb#ch0000034?line=31'>32</a>\u001b[0m \u001b[39mreturn\u001b[39;00m signed_txn, txn_hash\n",
      "File \u001b[1;32m~\\AppData\\Roaming\\Python\\Python38\\site-packages\\web3\\module.py:57\u001b[0m, in \u001b[0;36mretrieve_blocking_method_call_fn.<locals>.caller\u001b[1;34m(*args, **kwargs)\u001b[0m\n\u001b[0;32m     55\u001b[0m     \u001b[39mreturn\u001b[39;00m LogFilter(eth_module\u001b[39m=\u001b[39mmodule, filter_id\u001b[39m=\u001b[39merr\u001b[39m.\u001b[39mfilter_id)\n\u001b[0;32m     56\u001b[0m result_formatters, error_formatters, null_result_formatters \u001b[39m=\u001b[39m response_formatters\n\u001b[1;32m---> 57\u001b[0m result \u001b[39m=\u001b[39m w3\u001b[39m.\u001b[39;49mmanager\u001b[39m.\u001b[39;49mrequest_blocking(method_str,\n\u001b[0;32m     58\u001b[0m                                      params,\n\u001b[0;32m     59\u001b[0m                                      error_formatters,\n\u001b[0;32m     60\u001b[0m                                      null_result_formatters)\n\u001b[0;32m     61\u001b[0m \u001b[39mreturn\u001b[39;00m apply_result_formatters(result_formatters, result)\n",
      "File \u001b[1;32m~\\AppData\\Roaming\\Python\\Python38\\site-packages\\web3\\manager.py:198\u001b[0m, in \u001b[0;36mRequestManager.request_blocking\u001b[1;34m(self, method, params, error_formatters, null_result_formatters)\u001b[0m\n\u001b[0;32m    194\u001b[0m \u001b[39m\"\"\"\u001b[39;00m\n\u001b[0;32m    195\u001b[0m \u001b[39mMake a synchronous request using the provider\u001b[39;00m\n\u001b[0;32m    196\u001b[0m \u001b[39m\"\"\"\u001b[39;00m\n\u001b[0;32m    197\u001b[0m response \u001b[39m=\u001b[39m \u001b[39mself\u001b[39m\u001b[39m.\u001b[39m_make_request(method, params)\n\u001b[1;32m--> 198\u001b[0m \u001b[39mreturn\u001b[39;00m \u001b[39mself\u001b[39;49m\u001b[39m.\u001b[39;49mformatted_response(response,\n\u001b[0;32m    199\u001b[0m                                params,\n\u001b[0;32m    200\u001b[0m                                error_formatters,\n\u001b[0;32m    201\u001b[0m                                null_result_formatters)\n",
      "File \u001b[1;32m~\\AppData\\Roaming\\Python\\Python38\\site-packages\\web3\\manager.py:171\u001b[0m, in \u001b[0;36mRequestManager.formatted_response\u001b[1;34m(response, params, error_formatters, null_result_formatters)\u001b[0m\n\u001b[0;32m    169\u001b[0m \u001b[39mif\u001b[39;00m \u001b[39m\"\u001b[39m\u001b[39merror\u001b[39m\u001b[39m\"\u001b[39m \u001b[39min\u001b[39;00m response:\n\u001b[0;32m    170\u001b[0m     apply_error_formatters(error_formatters, response)\n\u001b[1;32m--> 171\u001b[0m     \u001b[39mraise\u001b[39;00m \u001b[39mValueError\u001b[39;00m(response[\u001b[39m\"\u001b[39m\u001b[39merror\u001b[39m\u001b[39m\"\u001b[39m])\n\u001b[0;32m    172\u001b[0m \u001b[39m# NULL_RESPONSES includes None, so return False here as the default\u001b[39;00m\n\u001b[0;32m    173\u001b[0m \u001b[39m# so we don't apply the null_result_formatters if there is no 'result' key\u001b[39;00m\n\u001b[0;32m    174\u001b[0m \u001b[39melif\u001b[39;00m response\u001b[39m.\u001b[39mget(\u001b[39m'\u001b[39m\u001b[39mresult\u001b[39m\u001b[39m'\u001b[39m, \u001b[39mFalse\u001b[39;00m) \u001b[39min\u001b[39;00m NULL_RESPONSES:\n\u001b[0;32m    175\u001b[0m     \u001b[39m# null_result_formatters raise either a BlockNotFound\u001b[39;00m\n\u001b[0;32m    176\u001b[0m     \u001b[39m# or a TransactionNotFound error, depending on the method called\u001b[39;00m\n",
      "\u001b[1;31mValueError\u001b[0m: {'message': 'Method eth_signTransaction not supported.', 'code': -32000, 'data': {'stack': 'Error: Method eth_signTransaction not supported.\\n    at GethApiDouble.handleRequest (C:\\\\Program Files\\\\WindowsApps\\\\GanacheUI_2.5.4.0_x64__5dg5pnz03psnj\\\\app\\\\resources\\\\static\\\\node\\\\node_modules\\\\ganache-core\\\\lib\\\\subproviders\\\\geth_api_double.js:70:16)\\n    at next (C:\\\\Program Files\\\\WindowsApps\\\\GanacheUI_2.5.4.0_x64__5dg5pnz03psnj\\\\app\\\\resources\\\\static\\\\node\\\\node_modules\\\\ganache-core\\\\node_modules\\\\web3-provider-engine\\\\index.js:136:18)\\n    at GethDefaults.handleRequest (C:\\\\Program Files\\\\WindowsApps\\\\GanacheUI_2.5.4.0_x64__5dg5pnz03psnj\\\\app\\\\resources\\\\static\\\\node\\\\node_modules\\\\ganache-core\\\\lib\\\\subproviders\\\\gethdefaults.js:15:12)\\n    at next (C:\\\\Program Files\\\\WindowsApps\\\\GanacheUI_2.5.4.0_x64__5dg5pnz03psnj\\\\app\\\\resources\\\\static\\\\node\\\\node_modules\\\\ganache-core\\\\node_modules\\\\web3-provider-engine\\\\index.js:136:18)\\n    at SubscriptionSubprovider.FilterSubprovider.handleRequest (C:\\\\Program Files\\\\WindowsApps\\\\GanacheUI_2.5.4.0_x64__5dg5pnz03psnj\\\\app\\\\resources\\\\static\\\\node\\\\node_modules\\\\ganache-core\\\\node_modules\\\\web3-provider-engine\\\\subproviders\\\\filters.js:89:7)\\n    at SubscriptionSubprovider.handleRequest (C:\\\\Program Files\\\\WindowsApps\\\\GanacheUI_2.5.4.0_x64__5dg5pnz03psnj\\\\app\\\\resources\\\\static\\\\node\\\\node_modules\\\\ganache-core\\\\node_modules\\\\web3-provider-engine\\\\subproviders\\\\subscriptions.js:137:49)\\n    at next (C:\\\\Program Files\\\\WindowsApps\\\\GanacheUI_2.5.4.0_x64__5dg5pnz03psnj\\\\app\\\\resources\\\\static\\\\node\\\\node_modules\\\\ganache-core\\\\node_modules\\\\web3-provider-engine\\\\index.js:136:18)\\n    at DelayedBlockFilter.handleRequest (C:\\\\Program Files\\\\WindowsApps\\\\GanacheUI_2.5.4.0_x64__5dg5pnz03psnj\\\\app\\\\resources\\\\static\\\\node\\\\node_modules\\\\ganache-core\\\\lib\\\\subproviders\\\\delayedblockfilter.js:31:3)\\n    at next (C:\\\\Program Files\\\\WindowsApps\\\\GanacheUI_2.5.4.0_x64__5dg5pnz03psnj\\\\app\\\\resources\\\\static\\\\node\\\\node_modules\\\\ganache-core\\\\node_modules\\\\web3-provider-engine\\\\index.js:136:18)\\n    at RequestFunnel.handleRequest (C:\\\\Program Files\\\\WindowsApps\\\\GanacheUI_2.5.4.0_x64__5dg5pnz03psnj\\\\app\\\\resources\\\\static\\\\node\\\\node_modules\\\\ganache-core\\\\lib\\\\subproviders\\\\requestfunnel.js:32:12)\\n    at next (C:\\\\Program Files\\\\WindowsApps\\\\GanacheUI_2.5.4.0_x64__5dg5pnz03psnj\\\\app\\\\resources\\\\static\\\\node\\\\node_modules\\\\ganache-core\\\\node_modules\\\\web3-provider-engine\\\\index.js:136:18)\\n    at Web3ProviderEngine._handleAsync (C:\\\\Program Files\\\\WindowsApps\\\\GanacheUI_2.5.4.0_x64__5dg5pnz03psnj\\\\app\\\\resources\\\\static\\\\node\\\\node_modules\\\\ganache-core\\\\node_modules\\\\web3-provider-engine\\\\index.js:123:3)\\n    at Timeout._onTimeout (C:\\\\Program Files\\\\WindowsApps\\\\GanacheUI_2.5.4.0_x64__5dg5pnz03psnj\\\\app\\\\resources\\\\static\\\\node\\\\node_modules\\\\ganache-core\\\\node_modules\\\\web3-provider-engine\\\\index.js:107:12)\\n    at listOnTimeout (internal/timers.js:531:17)\\n    at processTimers (internal/timers.js:475:7)', 'name': 'Error'}}"
     ]
    }
   ],
   "source": [
    "donator.deposit()"
   ]
  },
  {
   "cell_type": "code",
   "execution_count": 36,
   "metadata": {},
   "outputs": [],
   "source": [
    "\n",
    "\n",
    "class Charity(object):\n",
    "    name = \"\"\n",
    "    address = \"\"\n",
    "\n",
    "    # The class \"constructor\" - It's actually an initializer\n",
    "    def __init__(self, name, address):\n",
    "        self.name = name\n",
    "        self.address = address\n",
    "\n",
    "bitGive = Charity(\"ABC\", abcline)\n",
    "charities = [bitGive]\n",
    "\n"
   ]
  },
  {
   "cell_type": "code",
   "execution_count": 38,
   "metadata": {},
   "outputs": [
    {
     "data": {
      "text/plain": [
       "'0x3d4e44E7c555e449D3fAE4a18Eb31623769CF0A8'"
      ]
     },
     "execution_count": 38,
     "metadata": {},
     "output_type": "execute_result"
    }
   ],
   "source": [
    "bitGive.address\n"
   ]
  },
  {
   "cell_type": "code",
   "execution_count": 55,
   "metadata": {},
   "outputs": [],
   "source": [
    "HTTP_web3.eth.defaultAccount = HTTP_web3.eth.accounts[0]\n",
    "\n",
    "pk = '2d9b644248f866ff9e0a57053c251adb6eaa59fffb90db7371875e0756ed4a50'"
   ]
  },
  {
   "cell_type": "code",
   "execution_count": 57,
   "metadata": {},
   "outputs": [
    {
     "ename": "ValueError",
     "evalue": "{'message': 'VM Exception while processing transaction: revert', 'code': -32000, 'data': {'0x8fe1f4f55146e3a092ba4cafc6946e247da6e71899538f20794e40217f2b5b4e': {'error': 'revert', 'program_counter': 16, 'return': '0x'}, 'stack': 'RuntimeError: VM Exception while processing transaction: revert\\n    at Function.RuntimeError.fromResults (C:\\\\Program Files\\\\WindowsApps\\\\GanacheUI_2.5.4.0_x64__5dg5pnz03psnj\\\\app\\\\resources\\\\static\\\\node\\\\node_modules\\\\ganache-core\\\\lib\\\\utils\\\\runtimeerror.js:94:13)\\n    at BlockchainDouble.processBlock (C:\\\\Program Files\\\\WindowsApps\\\\GanacheUI_2.5.4.0_x64__5dg5pnz03psnj\\\\app\\\\resources\\\\static\\\\node\\\\node_modules\\\\ganache-core\\\\lib\\\\blockchain_double.js:627:24)\\n    at runMicrotasks (<anonymous>)\\n    at processTicksAndRejections (internal/process/task_queues.js:93:5)', 'name': 'RuntimeError'}}",
     "output_type": "error",
     "traceback": [
      "\u001b[1;31m---------------------------------------------------------------------------\u001b[0m",
      "\u001b[1;31mValueError\u001b[0m                                Traceback (most recent call last)",
      "\u001b[1;32mc:\\Users\\JBarr\\OneDrive\\Documents\\FinTech\\blockchain\\A_BlockchainCharity\\abcDEVBare.ipynb Cell 14\u001b[0m in \u001b[0;36m<cell line: 7>\u001b[1;34m()\u001b[0m\n\u001b[0;32m      <a href='vscode-notebook-cell:/c%3A/Users/JBarr/OneDrive/Documents/FinTech/blockchain/A_BlockchainCharity/abcDEVBare.ipynb#ch0000032?line=0'>1</a>\u001b[0m refund \u001b[39m=\u001b[39m {\n\u001b[0;32m      <a href='vscode-notebook-cell:/c%3A/Users/JBarr/OneDrive/Documents/FinTech/blockchain/A_BlockchainCharity/abcDEVBare.ipynb#ch0000032?line=1'>2</a>\u001b[0m     \u001b[39m\"\u001b[39m\u001b[39mfrom\u001b[39m\u001b[39m\"\u001b[39m: HTTP_web3\u001b[39m.\u001b[39meth\u001b[39m.\u001b[39maccounts[\u001b[39m1\u001b[39m], \u001b[39m\"\u001b[39m\u001b[39mto\u001b[39m\u001b[39m\"\u001b[39m: bitGive\u001b[39m.\u001b[39maddress,\n\u001b[0;32m      <a href='vscode-notebook-cell:/c%3A/Users/JBarr/OneDrive/Documents/FinTech/blockchain/A_BlockchainCharity/abcDEVBare.ipynb#ch0000032?line=2'>3</a>\u001b[0m     \u001b[39m\"\u001b[39m\u001b[39mvalue\u001b[39m\u001b[39m\"\u001b[39m: \u001b[39m1000000000000\u001b[39m, \u001b[39m\"\u001b[39m\u001b[39mgas\u001b[39m\u001b[39m\"\u001b[39m: \u001b[39m101000\u001b[39m,\n\u001b[0;32m      <a href='vscode-notebook-cell:/c%3A/Users/JBarr/OneDrive/Documents/FinTech/blockchain/A_BlockchainCharity/abcDEVBare.ipynb#ch0000032?line=3'>4</a>\u001b[0m     \u001b[39m\"\u001b[39m\u001b[39mgasPrice\u001b[39m\u001b[39m\"\u001b[39m: \u001b[39m0\u001b[39m, \u001b[39m'\u001b[39m\u001b[39mnonce\u001b[39m\u001b[39m'\u001b[39m:\u001b[39m2\u001b[39m}\n\u001b[0;32m      <a href='vscode-notebook-cell:/c%3A/Users/JBarr/OneDrive/Documents/FinTech/blockchain/A_BlockchainCharity/abcDEVBare.ipynb#ch0000032?line=5'>6</a>\u001b[0m signed_txn \u001b[39m=\u001b[39m HTTP_web3\u001b[39m.\u001b[39meth\u001b[39m.\u001b[39maccount\u001b[39m.\u001b[39msign_transaction(refund, pk)\n\u001b[1;32m----> <a href='vscode-notebook-cell:/c%3A/Users/JBarr/OneDrive/Documents/FinTech/blockchain/A_BlockchainCharity/abcDEVBare.ipynb#ch0000032?line=6'>7</a>\u001b[0m txn_hash \u001b[39m=\u001b[39m HTTP_web3\u001b[39m.\u001b[39;49meth\u001b[39m.\u001b[39;49msend_raw_transaction(signed_txn\u001b[39m.\u001b[39;49mrawTransaction)\n",
      "File \u001b[1;32m~\\AppData\\Roaming\\Python\\Python38\\site-packages\\web3\\eth.py:818\u001b[0m, in \u001b[0;36mEth.send_raw_transaction\u001b[1;34m(self, transaction)\u001b[0m\n\u001b[0;32m    817\u001b[0m \u001b[39mdef\u001b[39;00m \u001b[39msend_raw_transaction\u001b[39m(\u001b[39mself\u001b[39m, transaction: Union[HexStr, \u001b[39mbytes\u001b[39m]) \u001b[39m-\u001b[39m\u001b[39m>\u001b[39m HexBytes:\n\u001b[1;32m--> 818\u001b[0m     \u001b[39mreturn\u001b[39;00m \u001b[39mself\u001b[39;49m\u001b[39m.\u001b[39;49m_send_raw_transaction(transaction)\n",
      "File \u001b[1;32m~\\AppData\\Roaming\\Python\\Python38\\site-packages\\web3\\module.py:57\u001b[0m, in \u001b[0;36mretrieve_blocking_method_call_fn.<locals>.caller\u001b[1;34m(*args, **kwargs)\u001b[0m\n\u001b[0;32m     55\u001b[0m     \u001b[39mreturn\u001b[39;00m LogFilter(eth_module\u001b[39m=\u001b[39mmodule, filter_id\u001b[39m=\u001b[39merr\u001b[39m.\u001b[39mfilter_id)\n\u001b[0;32m     56\u001b[0m result_formatters, error_formatters, null_result_formatters \u001b[39m=\u001b[39m response_formatters\n\u001b[1;32m---> 57\u001b[0m result \u001b[39m=\u001b[39m w3\u001b[39m.\u001b[39;49mmanager\u001b[39m.\u001b[39;49mrequest_blocking(method_str,\n\u001b[0;32m     58\u001b[0m                                      params,\n\u001b[0;32m     59\u001b[0m                                      error_formatters,\n\u001b[0;32m     60\u001b[0m                                      null_result_formatters)\n\u001b[0;32m     61\u001b[0m \u001b[39mreturn\u001b[39;00m apply_result_formatters(result_formatters, result)\n",
      "File \u001b[1;32m~\\AppData\\Roaming\\Python\\Python38\\site-packages\\web3\\manager.py:198\u001b[0m, in \u001b[0;36mRequestManager.request_blocking\u001b[1;34m(self, method, params, error_formatters, null_result_formatters)\u001b[0m\n\u001b[0;32m    194\u001b[0m \u001b[39m\"\"\"\u001b[39;00m\n\u001b[0;32m    195\u001b[0m \u001b[39mMake a synchronous request using the provider\u001b[39;00m\n\u001b[0;32m    196\u001b[0m \u001b[39m\"\"\"\u001b[39;00m\n\u001b[0;32m    197\u001b[0m response \u001b[39m=\u001b[39m \u001b[39mself\u001b[39m\u001b[39m.\u001b[39m_make_request(method, params)\n\u001b[1;32m--> 198\u001b[0m \u001b[39mreturn\u001b[39;00m \u001b[39mself\u001b[39;49m\u001b[39m.\u001b[39;49mformatted_response(response,\n\u001b[0;32m    199\u001b[0m                                params,\n\u001b[0;32m    200\u001b[0m                                error_formatters,\n\u001b[0;32m    201\u001b[0m                                null_result_formatters)\n",
      "File \u001b[1;32m~\\AppData\\Roaming\\Python\\Python38\\site-packages\\web3\\manager.py:171\u001b[0m, in \u001b[0;36mRequestManager.formatted_response\u001b[1;34m(response, params, error_formatters, null_result_formatters)\u001b[0m\n\u001b[0;32m    169\u001b[0m \u001b[39mif\u001b[39;00m \u001b[39m\"\u001b[39m\u001b[39merror\u001b[39m\u001b[39m\"\u001b[39m \u001b[39min\u001b[39;00m response:\n\u001b[0;32m    170\u001b[0m     apply_error_formatters(error_formatters, response)\n\u001b[1;32m--> 171\u001b[0m     \u001b[39mraise\u001b[39;00m \u001b[39mValueError\u001b[39;00m(response[\u001b[39m\"\u001b[39m\u001b[39merror\u001b[39m\u001b[39m\"\u001b[39m])\n\u001b[0;32m    172\u001b[0m \u001b[39m# NULL_RESPONSES includes None, so return False here as the default\u001b[39;00m\n\u001b[0;32m    173\u001b[0m \u001b[39m# so we don't apply the null_result_formatters if there is no 'result' key\u001b[39;00m\n\u001b[0;32m    174\u001b[0m \u001b[39melif\u001b[39;00m response\u001b[39m.\u001b[39mget(\u001b[39m'\u001b[39m\u001b[39mresult\u001b[39m\u001b[39m'\u001b[39m, \u001b[39mFalse\u001b[39;00m) \u001b[39min\u001b[39;00m NULL_RESPONSES:\n\u001b[0;32m    175\u001b[0m     \u001b[39m# null_result_formatters raise either a BlockNotFound\u001b[39;00m\n\u001b[0;32m    176\u001b[0m     \u001b[39m# or a TransactionNotFound error, depending on the method called\u001b[39;00m\n",
      "\u001b[1;31mValueError\u001b[0m: {'message': 'VM Exception while processing transaction: revert', 'code': -32000, 'data': {'0x8fe1f4f55146e3a092ba4cafc6946e247da6e71899538f20794e40217f2b5b4e': {'error': 'revert', 'program_counter': 16, 'return': '0x'}, 'stack': 'RuntimeError: VM Exception while processing transaction: revert\\n    at Function.RuntimeError.fromResults (C:\\\\Program Files\\\\WindowsApps\\\\GanacheUI_2.5.4.0_x64__5dg5pnz03psnj\\\\app\\\\resources\\\\static\\\\node\\\\node_modules\\\\ganache-core\\\\lib\\\\utils\\\\runtimeerror.js:94:13)\\n    at BlockchainDouble.processBlock (C:\\\\Program Files\\\\WindowsApps\\\\GanacheUI_2.5.4.0_x64__5dg5pnz03psnj\\\\app\\\\resources\\\\static\\\\node\\\\node_modules\\\\ganache-core\\\\lib\\\\blockchain_double.js:627:24)\\n    at runMicrotasks (<anonymous>)\\n    at processTicksAndRejections (internal/process/task_queues.js:93:5)', 'name': 'RuntimeError'}}"
     ]
    }
   ],
   "source": [
    "\n",
    "refund = {\n",
    "    \"from\": HTTP_we, \"to\": bitGive.address,\n",
    "    \"value\": 1000000000000, \"gas\": 101000,\n",
    "    \"gasPrice\": 0, 'nonce':2}\n",
    "\n",
    "signed_txn = HTTP_web3.eth.account.sign_transaction(refund, pk)\n",
    "txn_hash = HTTP_web3.eth.send_raw_transaction(signed_txn.rawTransaction)\n"
   ]
  },
  {
   "cell_type": "code",
   "execution_count": null,
   "metadata": {},
   "outputs": [],
   "source": [
    "#def contractFarctory():\n",
    " #   contract = IPC_web3.eth.contract(\n",
    "  #    #  address=contract_address,\n",
    "   #     abi=REGISTRATION_abi)\n",
    "\n",
    "    #return contract\n",
    "\n",
    "#BlocklistedFactory = contractFarctory()\n",
    "\n",
    "#Blocklisted = BlocklistedFactory(address='0x55800814325102399fB55d2824DB811A6Dc552fB')\n",
    "\n",
    "\n"
   ]
  },
  {
   "cell_type": "code",
   "execution_count": null,
   "metadata": {},
   "outputs": [],
   "source": [
    "def connectToWeb3_viaGeth():\n",
    "    HTTP_web3 = Web3(Web3.HTTPProvider(os.getenv(\"HTTP://127.0.0.1:7545\")))\n",
    "    IPC_web3 = Web3(HTTPProvider(\"HTTP://127.0.0.1:7545\"))\n",
    "    \n",
    "    return HTTP_web3, IPC_web3\n",
    "    \n",
    "HTTP_web3, IPC_web3 = connectToWeb3_viaGeth()\n",
    "\n",
    "path = './artifacts/listingTokenERC20.json'\n",
    "\n",
    "\n",
    "contractAdd = \"0xd9145CCE52D386f254917e481eB44e9943F39138\"\n",
    "\n",
    "\n",
    "\n",
    "privateKeyObj = \"8439f0d3d7dabb4daa7a31712dff3fa21773d49326ae588cc96584609e4a2303\"\n",
    "\n",
    "address = \"0x68bE93bB6a53Af7F3BFC1Fb3789817758E475935\"\n",
    "\n",
    "\n",
    "    \n",
    "class UserAcc:\n",
    "\t\n",
    "\tdef __init__(self, address, _privateKeyObj):\n",
    "\t\tself.address = address\n",
    "\t\tself.privateKeyObj = _privateKeyObj\n",
    "\t\tself.UserPrivate = IPC_web3.eth.account.privateKeyToAccount(_privateKeyObj)\n",
    "\n",
    "LISTADD = UserAcc(address, privateKeyObj)\n",
    "\n",
    "\n",
    "\n",
    " # dump will private key, encrypted with password \"123\" into the wallet account. The file name of the file storing the private key is the account address.\n",
    "# wallet class\n",
    "\n",
    "def wallet_():\n",
    "    wallet = BigA.encrypt(Account.privateKey, '123')\n",
    "    wfn = './keystore/{0}.json'.format(account.address)\n",
    "    with open(wfn,'w') as f: \n",
    "        json.dump(wallet,f)\n",
    "    print('wallet saved to {0}'.format(wfn))\n",
    "    wallet, wfn\n",
    "\n",
    "def wallet_two( wallet, wfn):\n",
    "    with open(wfn,'r') as f:\n",
    "        wallet = json.load(f)\n",
    "    print('wallet loaded from {0}'.format(wfn))\n",
    "    priv_key = Account.decrypt(wallet,'123')\n",
    "    account = Account.privateKeyToAccount(priv_key)\n",
    "    print('private => {0}'.format(account._key_obj))\n",
    "    print('public  => {0}'.format(account._key_obj.public_key))\n",
    "    print('address => {0}'.format(account.address))\n",
    "\n",
    "print(\"-----------------\")"
   ]
  },
  {
   "cell_type": "code",
   "execution_count": null,
   "metadata": {},
   "outputs": [],
   "source": [
    "Balance = IPC_web3.eth.getBalance(IPC_web3.eth.accounts[0],2)# You can also use the number to see the balance of the pointing block\n",
    "print('balance@block#2 => {0}'.format(Balance))\n",
    "\n",
    "\n",
    "# Convert 1 ether to the value measured by wei:\n",
    "one_ether = IPC_web3.toWei(1,'ether')\n",
    " # Convert 1 wei to the value measured by kwei:\n",
    "one_wei = IPC_web3.fromWei(1,'wei')\n",
    "\n",
    "\n",
    "balance = IPC_web3.eth.getBalance(accounts[0],'latest')\n",
    "print('balance before tx => {0}'.format(balance))\n",
    "\n",
    "\n",
    "payload = {\n",
    "  'from': '0x84e00525674338A1322357316D2e2a07667AA0De',\n",
    "  'to': \"0x0c5D5E629B7E287feC56a48AE28De392db74e058\",\n",
    "  'value': 40000000000000\n",
    "}\n",
    " # Submit the transaction to the Ethereum node, the ** node will return the hash value of the transaction**\n",
    "tx_hash = IPC_web3.eth.send_transaction(payload)\n",
    "#sendTransaction(payload)\n",
    "print(f'tx hash => {0}{tx_hash}')\n",
    "\n",
    " #Read the account balance after the transaction (ganache is the transaction completed in real time, so this can immediately see the transaction completed, the balance changes)\n",
    "frombalance = IPC_web3.eth.getBalance(accounts[0],'latest')\n",
    "tobalance = IPC_web3.eth.getBalance(\"0x5466308f03f95Ac638707193EF2660dc3E0d36e8\",'latest')\n"
   ]
  },
  {
   "cell_type": "code",
   "execution_count": null,
   "metadata": {},
   "outputs": [],
   "source": [
    "\n",
    "def waitForReceipt(tx_hash,timeout=60,interval=2):\n",
    "  t0 = time.time()\n",
    "  while(True):\n",
    "    receipt = IPC_web3.eth.getTransactionReceipt(tx_hash)\n",
    "    if receipt is not None:\n",
    "      break\n",
    "    delta = time.time() - t0\n",
    "    if(delta > timeout ):\n",
    "      break\n",
    "    time.sleep(interval)\n",
    "    \n",
    "  return receipt\n",
    "\n",
    "waitForReceipt(tx_hash)"
   ]
  },
  {
   "cell_type": "code",
   "execution_count": null,
   "metadata": {},
   "outputs": [],
   "source": [
    "import os\n",
    "import json\n",
    "\n",
    "from flask import Flask\n",
    "from flask import request\n",
    "\n",
    "from two1.lib.server import rest_client\n",
    "from two1.commands.config import TWO1_HOST\n",
    "from two1.commands.config import Config\n",
    "from two1.lib.wallet import Wallet\n",
    "from two1.lib.bitserv.flask import Payment\n",
    "\n",
    "app = Flask(__name__)\n",
    "wallet = Wallet()\n",
    "config = Config()\n",
    "payment = Payment(app, wallet)\n",
    "client = rest_client.TwentyOneRestClient(TWO1_HOST, config.machine_auth, config.username)\n",
    "\n",
    "\n",
    "\n",
    "class Charity(object):\n",
    "    name = \"\"\n",
    "    address = \"\"\n",
    "\n",
    "    # The class \"constructor\" - It's actually an initializer\n",
    "    def __init__(self, name, address):\n",
    "        self.name = name\n",
    "        self.address = address\n",
    "\n",
    "bitGive = Charity(\"ABC\", \"1PEoUKNxTZsc5rFSQvQjeTVwDE9vEDCRWm\")\n",
    "charities = [bitGive]\n",
    "\n"
   ]
  },
  {
   "cell_type": "code",
   "execution_count": null,
   "metadata": {},
   "outputs": [],
   "source": [
    "\n",
    "\n",
    "# check how much donated\n",
    "def check_amount(request):\n",
    "    return int(request.args.get(\"donation\", 0))\n",
    "\n",
    "# machine-payable endpoint that donates given amount to specified charity\n",
    "@app.route('/donate')\n",
    "@payment.required(check_amount)\n",
    "def donate():\n",
    "    amount = int(request.args.get(\"donation\", 0))\n",
    "\n",
    "    # if current off-chain balance is over 20,000, flush to blockchain\n",
    "    off_chain_balance = int(client.get_earnings()[\"total_earnings\"])\n",
    "    if(off_chain_balance > 20000):\n",
    "        print(\"Off-chain balance now over 20,000 at {0}, flushing to blockchain...\".format(off_chain_balance))\n",
    "        os.system('21 flush')\n",
    "    if wallet.confirmed_balance() > 100000:\n",
    "        print(\"On-chain balance now over 100,000 at {0}, sending to charity...\".format(wallet.confirmed_balance()))\n",
    "        txid = wallet.send_to(charities[0].address, wallet.confirmed_balance())\n",
    "    print(\"Donated {0} to charity! On-chain balance now: {1}\".format(amount, wallet.confirmed_balance()))\n",
    "    return \"Success!\""
   ]
  },
  {
   "cell_type": "code",
   "execution_count": null,
   "metadata": {},
   "outputs": [],
   "source": [
    "import time\n",
    "\n",
    "dt = time\n",
    "dt = dt.localtime()"
   ]
  },
  {
   "cell_type": "code",
   "execution_count": null,
   "metadata": {},
   "outputs": [],
   "source": [
    "import sys\n",
    "import json\n",
    "\n",
    "#import from the 21 Developer Library\n",
    "\n",
    "\n",
    "# set up bitrequest client for BitTransfer requests\n",
    "wallet = IPC_web3.geth.personal.w\n",
    "username = \n",
    "requests = BitTransferRequests(wallet, username)\n"
   ]
  },
  {
   "cell_type": "code",
   "execution_count": null,
   "metadata": {},
   "outputs": [],
   "source": [
    "\n",
    "# server address\n",
    "def donate(server_url):\n",
    "    # get the charity listings from the server\n",
    "    response = requests.get(url=server_url+'charities')\n",
    "    charity_list = json.loads(response.text)\n",
    "    for charity_index in range(len(charity_list)):\n",
    "        print(\"{0}. {1}\".format(charity_index + 1, charity_list[charity_index][\"name\"]))\n",
    "    try:\n",
    "        # prompt the user to input the index number of the charity to donate to and the amount to donate\n",
    "        sel = int(input(\"Please enter the index of the charity you'd like to donate to: \"))\n",
    "        # check if the input index is valid key in charity_list dict\n",
    "        if sel <= len(charity_list):\n",
    "            charity_name = charity_list[sel-1][\"name\"]\n",
    "            donation_amount = int(input(\"How many satoshis would you like to donate to {}?: \".format(charity_name)))\n",
    "        else:\n",
    "            print(\"That is an invalid selection.\")\n",
    "            return\n",
    "        #create a 402 request\n",
    "        sel_url = server_url+'donate?sel={0}&donation={1}'.format(sel-1, donation_amount)\n",
    "        answer = requests.get(url=sel_url, stream=True)\n",
    "        if answer.status_code != 200:\n",
    "            print(\"Could not make an offchain payment. Please check that you have sufficient balance.\")\n",
    "        else:\n",
    "            print('Congratulations, you just donated {0} satoshis to {1}! Thanks!'.format(donation_amount, charity_name))\n",
    "\n",
    "\n",
    "    except ValueError:\n",
    "        print(\"That is an invalid input. Only numerical inputs are accepted.\")\n",
    "\n",
    "if __name__ == '__main__':\n",
    "    import sys\n",
    "    if len(sys.argv) > 1:\n",
    "        server_url = sys.argv[1]\n",
    "    else:\n",
    "        server_url = 'http://localhost:9393/'\n",
    "    donate(server_url)\n"
   ]
  },
  {
   "cell_type": "code",
   "execution_count": null,
   "metadata": {},
   "outputs": [],
   "source": []
  },
  {
   "cell_type": "code",
   "execution_count": null,
   "metadata": {},
   "outputs": [],
   "source": []
  },
  {
   "cell_type": "code",
   "execution_count": null,
   "metadata": {},
   "outputs": [],
   "source": []
  },
  {
   "cell_type": "code",
   "execution_count": null,
   "metadata": {},
   "outputs": [],
   "source": []
  },
  {
   "cell_type": "code",
   "execution_count": null,
   "metadata": {},
   "outputs": [],
   "source": []
  },
  {
   "cell_type": "code",
   "execution_count": null,
   "metadata": {},
   "outputs": [],
   "source": []
  },
  {
   "cell_type": "code",
   "execution_count": null,
   "metadata": {},
   "outputs": [],
   "source": []
  },
  {
   "cell_type": "code",
   "execution_count": null,
   "metadata": {},
   "outputs": [],
   "source": [
    "\n",
    "'''            \n",
    "                \n",
    "class Donator:\n",
    "    \n",
    "    def __init__(self, name):\n",
    "        \n",
    "        self.name = name\n",
    "        self.email = 'jav@mail.com' #input(\"What's your Email?\")\n",
    "        self.borrowerId = hash(name) * hash(time.time()**2) \n",
    "        self.UsersEth = UserAcc(User_address, privateKeyObj)\n",
    "        \n",
    "        \n",
    "        \n",
    "        self.P_amountInEthDeposited = 20000 #input(\"What's your current amount of total debt?\")\n",
    "        self.P_lengthOfDeposit = 8654 #input(\"What's your net monthly income?\")\n",
    "        self.P_shareOfIntrestToDonate = 3574 #input(\"What's your current amount of monthly espenses?\")\n",
    "        self.NumofNativeTokesDeposited = 5000 # input(\"What's your asset portfolio value?\")\n",
    "        \n",
    "        self.BorrowerDetails = {'Name' : self.name, 'Email' : self.email,\n",
    "                         'BorrowerId': self.borrowerId, 'Amount In Eth Deposited': self.P_amountInEthDeposited,\n",
    "                         'Length Of Deposit' : self.P_lengthOfDeposit,\n",
    "                         'Intrest To Donate' : self.P_shareOfIntrestToDonate,\n",
    "                         \"Num of Native Token Deposited\" : self.NumofNativeTokesDeposited}\n",
    "        \n",
    "    def __str__(self):\n",
    "        return self.BorrowerDetails   \n",
    "        \n",
    "    \n",
    "    \n",
    "donator = Donator('Javier Barrios')\n",
    "'''\n"
   ]
  },
  {
   "cell_type": "code",
   "execution_count": null,
   "metadata": {},
   "outputs": [],
   "source": []
  },
  {
   "cell_type": "code",
   "execution_count": null,
   "metadata": {},
   "outputs": [],
   "source": []
  },
  {
   "cell_type": "code",
   "execution_count": null,
   "metadata": {},
   "outputs": [],
   "source": []
  },
  {
   "cell_type": "code",
   "execution_count": null,
   "metadata": {},
   "outputs": [],
   "source": []
  },
  {
   "cell_type": "code",
   "execution_count": null,
   "metadata": {},
   "outputs": [],
   "source": []
  }
 ],
 "metadata": {
  "kernelspec": {
   "display_name": "Python 3.8.13 ('blockchainDev')",
   "language": "python",
   "name": "python3"
  },
  "language_info": {
   "codemirror_mode": {
    "name": "ipython",
    "version": 3
   },
   "file_extension": ".py",
   "mimetype": "text/x-python",
   "name": "python",
   "nbconvert_exporter": "python",
   "pygments_lexer": "ipython3",
   "version": "3.8.13"
  },
  "orig_nbformat": 4,
  "vscode": {
   "interpreter": {
    "hash": "1e9c44cc3bc95fb73b0aae724063041b6d6060f5ce93be071123fdfeed5e731e"
   }
  }
 },
 "nbformat": 4,
 "nbformat_minor": 2
}
